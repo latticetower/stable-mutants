{
 "cells": [
  {
   "cell_type": "code",
   "execution_count": 1,
   "metadata": {},
   "outputs": [],
   "source": [
    "import os\n",
    "import pandas as pd\n",
    "import numpy as np\n",
    "from sklearn.metrics import r2_score\n",
    "import warnings\n",
    "warnings.filterwarnings(\"ignore\", category=DeprecationWarning)\n",
    "\n",
    "import matplotlib.pyplot as plt\n",
    "%matplotlib inline"
   ]
  },
  {
   "cell_type": "code",
   "execution_count": 2,
   "metadata": {},
   "outputs": [],
   "source": [
    "datadir = \"../data\"\n",
    "savedir = \"../saves/catboost\"\n",
    "if not os.path.exists(savedir):\n",
    "    os.makedirs(savedir)\n",
    "os.listdir(datadir)\n",
    "df_train = pd.read_csv(os.path.join(datadir, \"single_muts_train.csv\"))\n",
    "df_test = pd.read_csv(os.path.join(datadir, \"single_muts_test.csv\"))"
   ]
  },
  {
   "cell_type": "code",
   "execution_count": 3,
   "metadata": {},
   "outputs": [
    {
     "data": {
      "text/plain": [
       "['A',\n",
       " 'D',\n",
       " 'E',\n",
       " 'F',\n",
       " 'G',\n",
       " 'H',\n",
       " 'I',\n",
       " 'K',\n",
       " 'L',\n",
       " 'M',\n",
       " 'N',\n",
       " 'P',\n",
       " 'Q',\n",
       " 'R',\n",
       " 'S',\n",
       " 'T',\n",
       " 'V',\n",
       " 'W',\n",
       " 'Y']"
      ]
     },
     "execution_count": 3,
     "metadata": {},
     "output_type": "execute_result"
    }
   ],
   "source": [
    "sorted(set([x for xs in df_test.sequence for x in xs]))\n",
    "#df_train[['sequence', \"stabilityscore\"]].values"
   ]
  },
  {
   "cell_type": "code",
   "execution_count": 4,
   "metadata": {},
   "outputs": [],
   "source": [
    "aa = \"\"\"Alanine\tAla\tA\n",
    "Arginine\tArg\tR\n",
    "Asparagine\tAsn\tN\n",
    "Aspartic Acid\tAsp\tD\n",
    "Cysteine\tCys\tC\n",
    "Glutamic Acid\tGlu\tE\n",
    "Glutamine\tGln\tQ\n",
    "Glycine\tGly\tG\n",
    "Histidine\tHis\tH\n",
    "Isoleucine\tIle\tI\n",
    "Leucine\tLeu\tL\n",
    "Lysine\tLys\tK\n",
    "Methionine\tMet\tM\n",
    "Phenylalanine\tPhe\tF\n",
    "Proline\tPro\tP\n",
    "Serine\tSer\tS\n",
    "Threonine\tThr\tT\n",
    "Tryptophan\tTrp\tW\n",
    "Tyrosine\tTyr\tY\n",
    "Valine\tVal\tV\"\"\"\n",
    "\n",
    "aadict = dict()\n",
    "for line in aa.split(\"\\n\"):\n",
    "    data = line.split()\n",
    "    if len(data)< 3:\n",
    "        continue\n",
    "    name = \" \".join(data[0:-2])\n",
    "    l3, l1 = data[-2:]\n",
    "    aadict[l1] = (name, l3)\n",
    "aa = sorted(aadict)\n",
    "aa2idx = {x: i for i, x in enumerate(aa)}"
   ]
  },
  {
   "cell_type": "code",
   "execution_count": 9,
   "metadata": {},
   "outputs": [],
   "source": [
    "x_full_train = np.stack(df_train.sequence.apply(lambda xs: np.asarray([aa2idx[x] for x in xs])).values)\n",
    "y_full_train = df_train.stabilityscore.values\n",
    "\n",
    "x_full_test = np.stack(df_test.sequence.apply(lambda xs: np.asarray([aa2idx[x] for x in xs])).values)\n",
    "y_full_test = df_test.stabilityscore.values"
   ]
  },
  {
   "cell_type": "code",
   "execution_count": 12,
   "metadata": {},
   "outputs": [
    {
     "name": "stdout",
     "output_type": "stream",
     "text": [
      "[ 5 15 15 16 16 14 19 14  4 16  2  3  3  3  0 14 14  0  0  8  3 18  0 14\n",
      " 14  5 19 13  9  6 17 16 13 11  5 16 19 18  3 17  3 17 14]\n",
      "{'A': 0, 'C': 1, 'D': 2, 'E': 3, 'F': 4, 'G': 5, 'H': 6, 'I': 7, 'K': 8, 'L': 9, 'M': 10, 'N': 11, 'P': 12, 'Q': 13, 'R': 14, 'S': 15, 'T': 16, 'V': 17, 'W': 18, 'Y': 19}\n"
     ]
    }
   ],
   "source": [
    "print(x_full_train[0])\n",
    "print(aa2idx)"
   ]
  },
  {
   "cell_type": "code",
   "execution_count": 25,
   "metadata": {},
   "outputs": [],
   "source": [
    "def calc_buriedArea(seq):\n",
    "    'Values taken from https://web.expasy.org/protscale/pscale/Averageburied.html'\n",
    "    dict={\n",
    "        0:86.600,\n",
    "        1:132.300,\n",
    "        2:97.800,\n",
    "        3:113.900,\n",
    "        4:194.100,\n",
    "        5:62.900,\n",
    "        6:155.800,\n",
    "        7:158.000,\n",
    "        8:115.500,\n",
    "        9:164.100,\n",
    "        10:172.900,\n",
    "        11:103.300,\n",
    "        12:92.900,\n",
    "        13:119.200,\n",
    "        14:162.200,\n",
    "        15:85.600,\n",
    "        16:106.500,\n",
    "        17:141.000,\n",
    "        18:224.600,\n",
    "        19:177.700\n",
    "    }\n",
    "    buried_area=0.0\n",
    "    for i in seq:\n",
    "        buried_area+=dict[i]\n",
    "    \n",
    "    return(buried_area)\n",
    "\n"
   ]
  },
  {
   "cell_type": "markdown",
   "metadata": {},
   "source": []
  },
  {
   "cell_type": "code",
   "execution_count": 17,
   "metadata": {},
   "outputs": [
    {
     "data": {
      "text/plain": [
       "5531.899999999999"
      ]
     },
     "execution_count": 17,
     "metadata": {},
     "output_type": "execute_result"
    }
   ],
   "source": [
    "calc_buriedArea(x_full_train[0])"
   ]
  },
  {
   "cell_type": "code",
   "execution_count": 18,
   "metadata": {},
   "outputs": [],
   "source": [
    "buriedAreas=[calc_buriedArea(x) for x in x_full_train]"
   ]
  },
  {
   "cell_type": "code",
   "execution_count": 21,
   "metadata": {},
   "outputs": [],
   "source": [
    "import matplotlib.pyplot as plt"
   ]
  },
  {
   "cell_type": "code",
   "execution_count": 24,
   "metadata": {},
   "outputs": [
    {
     "data": {
      "text/plain": [
       "(array([ 131.,  560., 1003., 1487., 1800., 1736., 1096.,  515.,  193.,\n",
       "          29.]),\n",
       " array([5013.7 , 5079.38, 5145.06, 5210.74, 5276.42, 5342.1 , 5407.78,\n",
       "        5473.46, 5539.14, 5604.82, 5670.5 ]),\n",
       " <a list of 10 Patch objects>)"
      ]
     },
     "execution_count": 24,
     "metadata": {},
     "output_type": "execute_result"
    },
    {
     "data": {
      "image/png": "[encoded data removed]",
      "text/plain": [
       "<Figure size 432x288 with 1 Axes>"
      ]
     },
     "metadata": {
      "needs_background": "light"
     },
     "output_type": "display_data"
    }
   ],
   "source": [
    "plt.xlabel('Total buried area')\n",
    "plt.ylabel('Freq')\n",
    "plt.hist(buriedAreas)\n"
   ]
  },
  {
   "cell_type": "code",
   "execution_count": 26,
   "metadata": {},
   "outputs": [],
   "source": [
    "def calc_polarity(seq):\n",
    "    '''\n",
    "    {'A': 0, 'C': 1, 'D': 2, 'E': 3, \n",
    "    'F': 4, 'G': 5, 'H': 6, 'I': 7, \n",
    "    'K': 8, 'L': 9, 'M': 10, 'N': 11, \n",
    "    'P': 12, 'Q': 13, 'R': 14, 'S': 15, \n",
    "    'T': 16, 'V': 17, 'W': 18, 'Y': 19}\n",
    "    '''\n",
    "    dict={\n",
    "        0:8.100,\n",
    "        1:5.500,\n",
    "        2:97.800,\n",
    "        3:113.900,\n",
    "        4:194.100,\n",
    "        5:62.900,\n",
    "        6:155.800,\n",
    "        7:158.000,\n",
    "        8:115.500,\n",
    "        9:164.100,\n",
    "        10:172.900,\n",
    "        11:103.300,\n",
    "        12:92.900,\n",
    "        13:119.200,\n",
    "        14:162.200,\n",
    "        15:85.600,\n",
    "        16:106.500,\n",
    "        17:141.000,\n",
    "        18:224.600,\n",
    "        19:177.700\n",
    "    }"
   ]
  },
  {
   "cell_type": "code",
   "execution_count": 45,
   "metadata": {},
   "outputs": [
    {
     "data": {
      "text/plain": [
       "392.59999999999997"
      ]
     },
     "execution_count": 45,
     "metadata": {},
     "output_type": "execute_result"
    }
   ],
   "source": [
    "def read_params(file):\n",
    "    \n",
    "    \n",
    "    \n",
    "    triple_to_single={\n",
    "        'Ala':'A',\n",
    "        'Arg':'R',\n",
    "        'Asn':'N',\n",
    "        'Asp':'D',\n",
    "        'Cys':'C',\n",
    "        'Gln':'Q',\n",
    "        'Glu':'E',\n",
    "        'Gly':'G',\n",
    "        'His':'H',\n",
    "        'Ile':'I',\n",
    "        'Leu':'L',\n",
    "        'Lys':'K',\n",
    "        'Met':'M',\n",
    "        'Phe':'F',\n",
    "        'Pro':'P',\n",
    "        'Ser':'S',\n",
    "        'Thr':'T',\n",
    "        'Trp':'W',\n",
    "        'Tyr':'Y',\n",
    "        'Val':'V'\n",
    "    \n",
    "    }\n",
    "    \n",
    "    single_to_encoder={'A': 0, 'C': 1, 'D': 2, \n",
    "                       'E': 3, 'F': 4, 'G': 5, \n",
    "                       'H': 6, 'I': 7, 'K': 8, \n",
    "                       'L': 9, 'M': 10, 'N': 11, \n",
    "                       'P': 12, 'Q': 13, 'R': 14, \n",
    "                       'S': 15, 'T': 16, 'V': 17, \n",
    "                       'W': 18, 'Y': 19}\n",
    "    \n",
    "    dictionary={}\n",
    "    with open(file,'r') as input_file:\n",
    "        for i in input_file.readlines():\n",
    "            #print(i)\n",
    "            if i.startswith(' '):\n",
    "                continue\n",
    "            elif i.startswith('\\n'):\n",
    "                pass\n",
    "            else:\n",
    "                aavalue=i.split(':')\n",
    "                #print(aavalue)\n",
    "                single=triple_to_single[aavalue[0]]\n",
    "                encoder=single_to_encoder[single]\n",
    "                dictionary.update({encoder:aavalue[1].strip()})\n",
    "    return(dictionary)\n",
    "\n",
    "\n",
    "def calc_feature(feature,seq):\n",
    "    \n",
    "    dict=read_params('../data/features/'+str(feature)+'.txt')\n",
    "                \n",
    "\n",
    "    feature=0.0\n",
    "    for i in seq:\n",
    "        feature+=float(dict[i])\n",
    "    return(feature)\n",
    "\n",
    "calc_feature('polarity',x_full_train[0])\n"
   ]
  },
  {
   "cell_type": "code",
   "execution_count": 54,
   "metadata": {},
   "outputs": [
    {
     "data": {
      "text/plain": [
       "['hydrophobicity-kyte.txt',\n",
       " 'beta-sheet.txt',\n",
       " 'bulkiness.txt',\n",
       " 'beta-turn-Levitt.txt',\n",
       " 'alpha-helix-Levitt.txt',\n",
       " 'relative_mutability.txt',\n",
       " 'recognition_factors.txt',\n",
       " 'refractivity.txt',\n",
       " 'hydrophobicity-abraham.txt',\n",
       " 'average_flexibility.txt',\n",
       " 'ratio_hetero_end-side.txt',\n",
       " 'beta-turn.txt',\n",
       " 'alpha-helix-Deleage.txt',\n",
       " 'buried_residues.txt',\n",
       " 'polarity-Zimmermann.txt',\n",
       " 'aa_composition.txt',\n",
       " 'number_of_codons.txt',\n",
       " 'polarity.txt']"
      ]
     },
     "execution_count": 54,
     "metadata": {},
     "output_type": "execute_result"
    }
   ],
   "source": [
    "import os\n",
    "'''\n",
    "Possible features by names of files in following directory\n",
    "'''\n",
    "os.listdir('../data/features')"
   ]
  },
  {
   "cell_type": "code",
   "execution_count": 60,
   "metadata": {},
   "outputs": [
    {
     "data": {
      "image/png": "[encoded data removed]",
      "text/plain": [
       "<Figure size 432x288 with 1 Axes>"
      ]
     },
     "metadata": {
      "needs_background": "light"
     },
     "output_type": "display_data"
    }
   ],
   "source": [
    "#feature_name='hydrophobicity-kyte'\n",
    "feature_list=os.listdir('../data/features')\n",
    "for i in feature_list:\n",
    "    feature=[calc_feature(i.split('.')[0],x) for x in x_full_train]\n",
    "    plt.xlabel(feature_name)\n",
    "    plt.ylabel('Freq')\n",
    "    plt.hist(feature)"
   ]
  },
  {
   "cell_type": "code",
   "execution_count": null,
   "metadata": {},
   "outputs": [],
   "source": []
  }
 ],
 "metadata": {
  "kernelspec": {
   "display_name": "Python 3",
   "language": "python",
   "name": "python3"
  },
  "language_info": {
   "codemirror_mode": {
    "name": "ipython",
    "version": 3
   },
   "file_extension": ".py",
   "mimetype": "text/x-python",
   "name": "python",
   "nbconvert_exporter": "python",
   "pygments_lexer": "ipython3",
   "version": "3.7.3"
  }
 },
 "nbformat": 4,
 "nbformat_minor": 2
}
