{
 "cells": [
  {
   "cell_type": "code",
   "execution_count": 28,
   "id": "gentle-belfast",
   "metadata": {},
   "outputs": [
    {
     "name": "stdout",
     "output_type": "stream",
     "text": [
      "['features', 'multiple_muts_test.csv', 'multiple_muts_train.csv', 'pdb', 'single_muts_test.csv', 'single_muts_train.csv']\n"
     ]
    }
   ],
   "source": [
    "import os\n",
    "import pandas as pd\n",
    "import numpy as np\n",
    "import warnings\n",
    "warnings.filterwarnings(\"ignore\")\n",
    "import matplotlib.pyplot as plt\n",
    "%matplotlib inline\n",
    "datadir = \"../data\"\n",
    "pdbdir = \"../data/pdb\"\n",
    "print(os.listdir(datadir))\n",
    "train_df_single = pd.read_csv(os.path.join(datadir, \"single_muts_train.csv\"))\n",
    "train_df_multi = pd.read_csv(os.path.join(datadir, \"multiple_muts_train.csv\"))\n",
    "\n",
    "test_df_single = pd.read_csv(os.path.join(datadir, \"single_muts_test.csv\"))\n",
    "test_df_multi = pd.read_csv(os.path.join(datadir, \"multiple_muts_test.csv\"))"
   ]
  },
  {
   "cell_type": "code",
   "execution_count": 24,
   "id": "completed-christian",
   "metadata": {},
   "outputs": [
    {
     "name": "stdout",
     "output_type": "stream",
     "text": [
      "['rd1', 'rd2', 'rd3', 'rd4']\n"
     ]
    }
   ],
   "source": [
    "pdb_files = []\n",
    "for base, dirs, files in os.walk(pdbdir):\n",
    "    if len(dirs) > 0:\n",
    "        print(dirs)\n",
    "        continue\n",
    "    if base.find(\"rd\") < 0:\n",
    "        continue\n",
    "    for file in files:\n",
    "        name = file.split(\".\")[0]\n",
    "        data = {\n",
    "            \"name\": name,\n",
    "            \"path\": os.path.join(base, file),\n",
    "        }\n",
    "        pdb_files.append(data)\n",
    "\n",
    "pdb_df = pd.DataFrame(pdb_files)"
   ]
  },
  {
   "cell_type": "code",
   "execution_count": 37,
   "id": "disturbed-least",
   "metadata": {},
   "outputs": [],
   "source": [
    "pdb_names = set(pdb_df.name.drop_duplicates().values)"
   ]
  },
  {
   "cell_type": "code",
   "execution_count": 30,
   "id": "shared-refrigerator",
   "metadata": {},
   "outputs": [],
   "source": [
    "train_df_single['wt_name'] = train_df_single.name.apply(lambda x: x.split(\".\")[0])\n",
    "train_df_multi['wt_name'] = train_df_multi.name.apply(lambda x: x.split(\".\")[0])\n",
    "\n",
    "test_df_single['wt_name'] = test_df_single.name.apply(lambda x: x.split(\".\")[0])\n",
    "test_df_multi['wt_name'] = test_df_multi.name.apply(lambda x: x.split(\".\")[0])"
   ]
  },
  {
   "cell_type": "code",
   "execution_count": 98,
   "id": "static-minutes",
   "metadata": {},
   "outputs": [],
   "source": [
    "orphans = train_df_single[~train_df_single.wt_name.isin(pdb_names)]"
   ]
  },
  {
   "cell_type": "code",
   "execution_count": 94,
   "id": "phantom-collapse",
   "metadata": {},
   "outputs": [],
   "source": [
    "from prody import parsePDB\n",
    "from Bio.PDB import * \n",
    "from Bio.SeqUtils import seq1\n",
    "\n",
    "def read_structure(name, path):\n",
    "    parser = PDBParser()\n",
    "    #pdb = parsePDB(pdb_df.path.values[0])\n",
    "    pdb = parser.get_structure(name, path)\n",
    "    sequence = seq1(\"\".join([res.resname for res in pdb.get_residues()]))\n",
    "    return sequence"
   ]
  },
  {
   "cell_type": "code",
   "execution_count": 95,
   "id": "finnish-minneapolis",
   "metadata": {},
   "outputs": [
    {
     "data": {
      "application/vnd.jupyter.widget-view+json": {
       "model_id": "0dd94161b0db49c2a8a158e8b9a964db",
       "version_major": 2,
       "version_minor": 0
      },
      "text/plain": [
       "  0%|          | 0/16463 [00:00<?, ?it/s]"
      ]
     },
     "metadata": {},
     "output_type": "display_data"
    }
   ],
   "source": [
    "# zip(pdb.getResnums(), pdb.getResnames())\n",
    "from tqdm import tqdm_notebook\n",
    "sequences = []\n",
    "for name, path in tqdm_notebook(pdb_df.values):\n",
    "    sequence = read_structure(name, path)\n",
    "    sequences.append({\n",
    "        \"name\": name,\n",
    "        \"sequence\": sequence\n",
    "    })"
   ]
  },
  {
   "cell_type": "code",
   "execution_count": 96,
   "id": "concerned-single",
   "metadata": {},
   "outputs": [],
   "source": [
    "df = pd.DataFrame(sequences)"
   ]
  },
  {
   "cell_type": "code",
   "execution_count": 222,
   "id": "varying-letters",
   "metadata": {},
   "outputs": [
    {
     "data": {
      "text/html": [
       "<div>\n",
       "<style scoped>\n",
       "    .dataframe tbody tr th:only-of-type {\n",
       "        vertical-align: middle;\n",
       "    }\n",
       "\n",
       "    .dataframe tbody tr th {\n",
       "        vertical-align: top;\n",
       "    }\n",
       "\n",
       "    .dataframe thead th {\n",
       "        text-align: right;\n",
       "    }\n",
       "</style>\n",
       "<table border=\"1\" class=\"dataframe\">\n",
       "  <thead>\n",
       "    <tr style=\"text-align: right;\">\n",
       "      <th></th>\n",
       "      <th>name</th>\n",
       "      <th>sequence</th>\n",
       "    </tr>\n",
       "  </thead>\n",
       "  <tbody>\n",
       "    <tr>\n",
       "      <th>0</th>\n",
       "      <td>EEHEE_rd1_0001</td>\n",
       "      <td>QEVNSGTQTYKNASPEEAERIARKAGATTWTEKGNKWEIRI</td>\n",
       "    </tr>\n",
       "    <tr>\n",
       "      <th>1</th>\n",
       "      <td>EEHEE_rd1_0002</td>\n",
       "      <td>YELEVGNYRYRADDPEQLKEEAKKVGARDVQTDGNNFKVRG</td>\n",
       "    </tr>\n",
       "    <tr>\n",
       "      <th>2</th>\n",
       "      <td>EEHEE_rd1_0003</td>\n",
       "      <td>WRVHFRGETYTADTEDDAKQLAKDAGARRIESSNGEVRVEL</td>\n",
       "    </tr>\n",
       "    <tr>\n",
       "      <th>3</th>\n",
       "      <td>EEHEE_rd1_0004</td>\n",
       "      <td>YTIEENGEKYTFRTRDEAEEWARRQGAQTVETRGTELRSRA</td>\n",
       "    </tr>\n",
       "    <tr>\n",
       "      <th>4</th>\n",
       "      <td>EEHEE_rd1_0005</td>\n",
       "      <td>VELEDNGRRVEATSTQEARDRAKKEGATTWTESGTRIEVRG</td>\n",
       "    </tr>\n",
       "    <tr>\n",
       "      <th>...</th>\n",
       "      <td>...</td>\n",
       "      <td>...</td>\n",
       "    </tr>\n",
       "    <tr>\n",
       "      <th>16458</th>\n",
       "      <td>HHH_rd4_0996</td>\n",
       "      <td>DEEQKKQVRKLLRSGVDDEQVVKYLKRQGVSEEEARRIVRKAK</td>\n",
       "    </tr>\n",
       "    <tr>\n",
       "      <th>16459</th>\n",
       "      <td>HHH_rd4_0997</td>\n",
       "      <td>DEERLKEEIEKAQRNNDAERVKKLLERLGVDPREVEEVYQRLS</td>\n",
       "    </tr>\n",
       "    <tr>\n",
       "      <th>16460</th>\n",
       "      <td>HHH_rd4_0998</td>\n",
       "      <td>EEKLERFAREVQKRGLSDEQIEEELKRRGVDDEQVKEVKRLVK</td>\n",
       "    </tr>\n",
       "    <tr>\n",
       "      <th>16461</th>\n",
       "      <td>HHH_rd4_0999</td>\n",
       "      <td>EEEIRKEIKKLRDNGVDDEQIKEILRRKGVDPRQVDKVIREVK</td>\n",
       "    </tr>\n",
       "    <tr>\n",
       "      <th>16462</th>\n",
       "      <td>HHH_rd4_1000</td>\n",
       "      <td>TDELTDQARKLKENGVDPRQVEEILRRQGVSDEEIKKIKERVV</td>\n",
       "    </tr>\n",
       "  </tbody>\n",
       "</table>\n",
       "<p>16463 rows × 2 columns</p>\n",
       "</div>"
      ],
      "text/plain": [
       "                 name                                     sequence\n",
       "0      EEHEE_rd1_0001    QEVNSGTQTYKNASPEEAERIARKAGATTWTEKGNKWEIRI\n",
       "1      EEHEE_rd1_0002    YELEVGNYRYRADDPEQLKEEAKKVGARDVQTDGNNFKVRG\n",
       "2      EEHEE_rd1_0003    WRVHFRGETYTADTEDDAKQLAKDAGARRIESSNGEVRVEL\n",
       "3      EEHEE_rd1_0004    YTIEENGEKYTFRTRDEAEEWARRQGAQTVETRGTELRSRA\n",
       "4      EEHEE_rd1_0005    VELEDNGRRVEATSTQEARDRAKKEGATTWTESGTRIEVRG\n",
       "...               ...                                          ...\n",
       "16458    HHH_rd4_0996  DEEQKKQVRKLLRSGVDDEQVVKYLKRQGVSEEEARRIVRKAK\n",
       "16459    HHH_rd4_0997  DEERLKEEIEKAQRNNDAERVKKLLERLGVDPREVEEVYQRLS\n",
       "16460    HHH_rd4_0998  EEKLERFAREVQKRGLSDEQIEEELKRRGVDDEQVKEVKRLVK\n",
       "16461    HHH_rd4_0999  EEEIRKEIKKLRDNGVDDEQIKEILRRKGVDPRQVDKVIREVK\n",
       "16462    HHH_rd4_1000  TDELTDQARKLKENGVDPRQVEEILRRQGVSDEEIKKIKERVV\n",
       "\n",
       "[16463 rows x 2 columns]"
      ]
     },
     "execution_count": 222,
     "metadata": {},
     "output_type": "execute_result"
    }
   ],
   "source": [
    "df"
   ]
  },
  {
   "cell_type": "code",
   "execution_count": 102,
   "id": "numeric-partnership",
   "metadata": {},
   "outputs": [
    {
     "data": {
      "text/plain": [
       "array(['EHEE_0882', 'HHH_0142'], dtype=object)"
      ]
     },
     "execution_count": 102,
     "metadata": {},
     "output_type": "execute_result"
    }
   ],
   "source": [
    "orphans.wt_name.unique()"
   ]
  },
  {
   "cell_type": "code",
   "execution_count": 188,
   "id": "related-exhaust",
   "metadata": {},
   "outputs": [
    {
     "data": {
      "text/html": [
       "<div>\n",
       "<style scoped>\n",
       "    .dataframe tbody tr th:only-of-type {\n",
       "        vertical-align: middle;\n",
       "    }\n",
       "\n",
       "    .dataframe tbody tr th {\n",
       "        vertical-align: top;\n",
       "    }\n",
       "\n",
       "    .dataframe thead th {\n",
       "        text-align: right;\n",
       "    }\n",
       "</style>\n",
       "<table border=\"1\" class=\"dataframe\">\n",
       "  <thead>\n",
       "    <tr style=\"text-align: right;\">\n",
       "      <th></th>\n",
       "      <th>Unnamed: 0</th>\n",
       "      <th>name</th>\n",
       "      <th>sequence</th>\n",
       "      <th>secondary_structure</th>\n",
       "      <th>stabilityscore</th>\n",
       "      <th>wt_name</th>\n",
       "    </tr>\n",
       "  </thead>\n",
       "  <tbody>\n",
       "    <tr>\n",
       "      <th>3</th>\n",
       "      <td>3</td>\n",
       "      <td>EHEE_0882.pdb_E2I</td>\n",
       "      <td>GSSQITIEVEDEEEARRVAKELRKKGYEVKIERRGNKWHVHRT</td>\n",
       "      <td>TTTTEEEEETTHHHHHHHHHHHHHHTTTEEEEEETTEEEEEET</td>\n",
       "      <td>1.59</td>\n",
       "      <td>EHEE_0882</td>\n",
       "    </tr>\n",
       "    <tr>\n",
       "      <th>13</th>\n",
       "      <td>13</td>\n",
       "      <td>EHEE_0882.pdb_K34H</td>\n",
       "      <td>GSSQETIEVEDEEEARRVAKELRKKGYEVKIERRGNHWHVHRT</td>\n",
       "      <td>TTTTEEEEETTHHHHHHHHHHHHHHTTTEEEEEETTEEEEEET</td>\n",
       "      <td>1.57</td>\n",
       "      <td>EHEE_0882</td>\n",
       "    </tr>\n",
       "    <tr>\n",
       "      <th>40</th>\n",
       "      <td>40</td>\n",
       "      <td>EHEE_0882.pdb_K17P</td>\n",
       "      <td>GSSQETIEVEDEEEARRVAPELRKKGYEVKIERRGNKWHVHRT</td>\n",
       "      <td>TTTTEEEEETTHHHHHHHHHHHHHHTTTEEEEEETTEEEEEET</td>\n",
       "      <td>0.52</td>\n",
       "      <td>EHEE_0882</td>\n",
       "    </tr>\n",
       "    <tr>\n",
       "      <th>47</th>\n",
       "      <td>47</td>\n",
       "      <td>EHEE_0882.pdb_R39Y</td>\n",
       "      <td>GSSQETIEVEDEEEARRVAKELRKKGYEVKIERRGNKWHVHYT</td>\n",
       "      <td>TTTTEEEEETTHHHHHHHHHHHHHHTTTEEEEEETTEEEEEET</td>\n",
       "      <td>1.56</td>\n",
       "      <td>EHEE_0882</td>\n",
       "    </tr>\n",
       "    <tr>\n",
       "      <th>58</th>\n",
       "      <td>58</td>\n",
       "      <td>EHEE_0882.pdb_E11H</td>\n",
       "      <td>GSSQETIEVEDEEHARRVAKELRKKGYEVKIERRGNKWHVHRT</td>\n",
       "      <td>TTTTEEEEETTHHHHHHHHHHHHHHTTTEEEEEETTEEEEEET</td>\n",
       "      <td>1.65</td>\n",
       "      <td>EHEE_0882</td>\n",
       "    </tr>\n",
       "    <tr>\n",
       "      <th>...</th>\n",
       "      <td>...</td>\n",
       "      <td>...</td>\n",
       "      <td>...</td>\n",
       "      <td>...</td>\n",
       "      <td>...</td>\n",
       "      <td>...</td>\n",
       "    </tr>\n",
       "    <tr>\n",
       "      <th>8521</th>\n",
       "      <td>8521</td>\n",
       "      <td>EHEE_0882.pdb_R39E</td>\n",
       "      <td>GSSQETIEVEDEEEARRVAKELRKKGYEVKIERRGNKWHVHET</td>\n",
       "      <td>TTTTEEEEETTHHHHHHHHHHHHHHTTTEEEEEETTEEEEEET</td>\n",
       "      <td>1.26</td>\n",
       "      <td>EHEE_0882</td>\n",
       "    </tr>\n",
       "    <tr>\n",
       "      <th>8523</th>\n",
       "      <td>8523</td>\n",
       "      <td>EHEE_0882.pdb_N33S</td>\n",
       "      <td>GSSQETIEVEDEEEARRVAKELRKKGYEVKIERRGSKWHVHRT</td>\n",
       "      <td>TTTTEEEEETTHHHHHHHHHHHHHHTTTEEEEEETTEEEEEET</td>\n",
       "      <td>1.59</td>\n",
       "      <td>EHEE_0882</td>\n",
       "    </tr>\n",
       "    <tr>\n",
       "      <th>8531</th>\n",
       "      <td>8531</td>\n",
       "      <td>EHEE_0882.pdb_R14K</td>\n",
       "      <td>GSSQETIEVEDEEEARKVAKELRKKGYEVKIERRGNKWHVHRT</td>\n",
       "      <td>TTTTEEEEETTHHHHHHHHHHHHHHTTTEEEEEETTEEEEEET</td>\n",
       "      <td>1.64</td>\n",
       "      <td>EHEE_0882</td>\n",
       "    </tr>\n",
       "    <tr>\n",
       "      <th>8540</th>\n",
       "      <td>8540</td>\n",
       "      <td>EHEE_0882.pdb_V26W</td>\n",
       "      <td>GSSQETIEVEDEEEARRVAKELRKKGYEWKIERRGNKWHVHRT</td>\n",
       "      <td>TTTTEEEEETTHHHHHHHHHHHHHHTTTEEEEEETTEEEEEET</td>\n",
       "      <td>1.25</td>\n",
       "      <td>EHEE_0882</td>\n",
       "    </tr>\n",
       "    <tr>\n",
       "      <th>8543</th>\n",
       "      <td>8543</td>\n",
       "      <td>EHEE_0882.pdb_Y24I</td>\n",
       "      <td>GSSQETIEVEDEEEARRVAKELRKKGIEVKIERRGNKWHVHRT</td>\n",
       "      <td>TTTTEEEEETTHHHHHHHHHHHHHHTTTEEEEEETTEEEEEET</td>\n",
       "      <td>1.32</td>\n",
       "      <td>EHEE_0882</td>\n",
       "    </tr>\n",
       "  </tbody>\n",
       "</table>\n",
       "<p>578 rows × 6 columns</p>\n",
       "</div>"
      ],
      "text/plain": [
       "      Unnamed: 0                name  \\\n",
       "3              3   EHEE_0882.pdb_E2I   \n",
       "13            13  EHEE_0882.pdb_K34H   \n",
       "40            40  EHEE_0882.pdb_K17P   \n",
       "47            47  EHEE_0882.pdb_R39Y   \n",
       "58            58  EHEE_0882.pdb_E11H   \n",
       "...          ...                 ...   \n",
       "8521        8521  EHEE_0882.pdb_R39E   \n",
       "8523        8523  EHEE_0882.pdb_N33S   \n",
       "8531        8531  EHEE_0882.pdb_R14K   \n",
       "8540        8540  EHEE_0882.pdb_V26W   \n",
       "8543        8543  EHEE_0882.pdb_Y24I   \n",
       "\n",
       "                                         sequence  \\\n",
       "3     GSSQITIEVEDEEEARRVAKELRKKGYEVKIERRGNKWHVHRT   \n",
       "13    GSSQETIEVEDEEEARRVAKELRKKGYEVKIERRGNHWHVHRT   \n",
       "40    GSSQETIEVEDEEEARRVAPELRKKGYEVKIERRGNKWHVHRT   \n",
       "47    GSSQETIEVEDEEEARRVAKELRKKGYEVKIERRGNKWHVHYT   \n",
       "58    GSSQETIEVEDEEHARRVAKELRKKGYEVKIERRGNKWHVHRT   \n",
       "...                                           ...   \n",
       "8521  GSSQETIEVEDEEEARRVAKELRKKGYEVKIERRGNKWHVHET   \n",
       "8523  GSSQETIEVEDEEEARRVAKELRKKGYEVKIERRGSKWHVHRT   \n",
       "8531  GSSQETIEVEDEEEARKVAKELRKKGYEVKIERRGNKWHVHRT   \n",
       "8540  GSSQETIEVEDEEEARRVAKELRKKGYEWKIERRGNKWHVHRT   \n",
       "8543  GSSQETIEVEDEEEARRVAKELRKKGIEVKIERRGNKWHVHRT   \n",
       "\n",
       "                              secondary_structure  stabilityscore    wt_name  \n",
       "3     TTTTEEEEETTHHHHHHHHHHHHHHTTTEEEEEETTEEEEEET            1.59  EHEE_0882  \n",
       "13    TTTTEEEEETTHHHHHHHHHHHHHHTTTEEEEEETTEEEEEET            1.57  EHEE_0882  \n",
       "40    TTTTEEEEETTHHHHHHHHHHHHHHTTTEEEEEETTEEEEEET            0.52  EHEE_0882  \n",
       "47    TTTTEEEEETTHHHHHHHHHHHHHHTTTEEEEEETTEEEEEET            1.56  EHEE_0882  \n",
       "58    TTTTEEEEETTHHHHHHHHHHHHHHTTTEEEEEETTEEEEEET            1.65  EHEE_0882  \n",
       "...                                           ...             ...        ...  \n",
       "8521  TTTTEEEEETTHHHHHHHHHHHHHHTTTEEEEEETTEEEEEET            1.26  EHEE_0882  \n",
       "8523  TTTTEEEEETTHHHHHHHHHHHHHHTTTEEEEEETTEEEEEET            1.59  EHEE_0882  \n",
       "8531  TTTTEEEEETTHHHHHHHHHHHHHHTTTEEEEEETTEEEEEET            1.64  EHEE_0882  \n",
       "8540  TTTTEEEEETTHHHHHHHHHHHHHHTTTEEEEEETTEEEEEET            1.25  EHEE_0882  \n",
       "8543  TTTTEEEEETTHHHHHHHHHHHHHHTTTEEEEEETTEEEEEET            1.32  EHEE_0882  \n",
       "\n",
       "[578 rows x 6 columns]"
      ]
     },
     "execution_count": 188,
     "metadata": {},
     "output_type": "execute_result"
    }
   ],
   "source": [
    "orphans[orphans.wt_name==\"EHEE_0882\"]"
   ]
  },
  {
   "cell_type": "code",
   "execution_count": 228,
   "id": "vertical-personal",
   "metadata": {},
   "outputs": [],
   "source": [
    "wt_df = pd.DataFrame([\n",
    "    {\"name\": \"EHEE_0882\", \"sequence\": \"GSSQETIEVEDEEEARRVAKELRKKGYEVKIERRGNKWHVHRT\", \"real\": \"EHEE_rd1_0882\"},\n",
    "    {\"name\": \"HHH_0142\", \"sequence\": \"RKWEEIAERLREEFNINPEEAREAVEKAGGNEEEARRIVKKRL\", \"real\": \"HHH_rd1_0142\"}\n",
    "])"
   ]
  },
  {
   "cell_type": "code",
   "execution_count": 115,
   "id": "perfect-diving",
   "metadata": {},
   "outputs": [
    {
     "data": {
      "text/html": [
       "<div>\n",
       "<style scoped>\n",
       "    .dataframe tbody tr th:only-of-type {\n",
       "        vertical-align: middle;\n",
       "    }\n",
       "\n",
       "    .dataframe tbody tr th {\n",
       "        vertical-align: top;\n",
       "    }\n",
       "\n",
       "    .dataframe thead th {\n",
       "        text-align: right;\n",
       "    }\n",
       "</style>\n",
       "<table border=\"1\" class=\"dataframe\">\n",
       "  <thead>\n",
       "    <tr style=\"text-align: right;\">\n",
       "      <th></th>\n",
       "      <th>name</th>\n",
       "      <th>sequence</th>\n",
       "      <th>real</th>\n",
       "    </tr>\n",
       "  </thead>\n",
       "  <tbody>\n",
       "    <tr>\n",
       "      <th>0</th>\n",
       "      <td>EHEE_0882</td>\n",
       "      <td>GSSQETIEVEDEEEARRVAKELRKKGYEVKIERRGNKWHVHRT</td>\n",
       "      <td>NaN</td>\n",
       "    </tr>\n",
       "    <tr>\n",
       "      <th>1</th>\n",
       "      <td>HHH_0142</td>\n",
       "      <td>RKWEEIAERLREEFNINPEEAREAVEKAGGNEEEARRIVKKRL</td>\n",
       "      <td>HHH_rd1_0142</td>\n",
       "    </tr>\n",
       "  </tbody>\n",
       "</table>\n",
       "</div>"
      ],
      "text/plain": [
       "        name                                     sequence          real\n",
       "0  EHEE_0882  GSSQETIEVEDEEEARRVAKELRKKGYEVKIERRGNKWHVHRT           NaN\n",
       "1   HHH_0142  RKWEEIAERLREEFNINPEEAREAVEKAGGNEEEARRIVKKRL  HHH_rd1_0142"
      ]
     },
     "execution_count": 115,
     "metadata": {},
     "output_type": "execute_result"
    }
   ],
   "source": [
    "wt_df"
   ]
  },
  {
   "cell_type": "code",
   "execution_count": 113,
   "id": "interim-aside",
   "metadata": {},
   "outputs": [
    {
     "data": {
      "text/html": [
       "<div>\n",
       "<style scoped>\n",
       "    .dataframe tbody tr th:only-of-type {\n",
       "        vertical-align: middle;\n",
       "    }\n",
       "\n",
       "    .dataframe tbody tr th {\n",
       "        vertical-align: top;\n",
       "    }\n",
       "\n",
       "    .dataframe thead th {\n",
       "        text-align: right;\n",
       "    }\n",
       "</style>\n",
       "<table border=\"1\" class=\"dataframe\">\n",
       "  <thead>\n",
       "    <tr style=\"text-align: right;\">\n",
       "      <th></th>\n",
       "      <th>name</th>\n",
       "      <th>sequence</th>\n",
       "    </tr>\n",
       "  </thead>\n",
       "  <tbody>\n",
       "    <tr>\n",
       "      <th>3294</th>\n",
       "      <td>HHH_rd1_0142</td>\n",
       "      <td>RKWEEIAERLREEFNINPEEAREAVEKAGGNEEEARRIVKKRL</td>\n",
       "    </tr>\n",
       "  </tbody>\n",
       "</table>\n",
       "</div>"
      ],
      "text/plain": [
       "              name                                     sequence\n",
       "3294  HHH_rd1_0142  RKWEEIAERLREEFNINPEEAREAVEKAGGNEEEARRIVKKRL"
      ]
     },
     "execution_count": 113,
     "metadata": {},
     "output_type": "execute_result"
    }
   ],
   "source": [
    "df[df.sequence == \"RKWEEIAERLREEFNINPEEAREAVEKAGGNEEEARRIVKKRL\"]"
   ]
  },
  {
   "cell_type": "code",
   "execution_count": 123,
   "id": "pressed-bangladesh",
   "metadata": {},
   "outputs": [],
   "source": [
    "candidates = set(orphans[orphans.wt_name==\"EHEE_0882\"].sequence.values)"
   ]
  },
  {
   "cell_type": "code",
   "execution_count": 125,
   "id": "obvious-lancaster",
   "metadata": {},
   "outputs": [
    {
     "data": {
      "text/html": [
       "<div>\n",
       "<style scoped>\n",
       "    .dataframe tbody tr th:only-of-type {\n",
       "        vertical-align: middle;\n",
       "    }\n",
       "\n",
       "    .dataframe tbody tr th {\n",
       "        vertical-align: top;\n",
       "    }\n",
       "\n",
       "    .dataframe thead th {\n",
       "        text-align: right;\n",
       "    }\n",
       "</style>\n",
       "<table border=\"1\" class=\"dataframe\">\n",
       "  <thead>\n",
       "    <tr style=\"text-align: right;\">\n",
       "      <th></th>\n",
       "      <th>name</th>\n",
       "      <th>sequence</th>\n",
       "    </tr>\n",
       "  </thead>\n",
       "  <tbody>\n",
       "  </tbody>\n",
       "</table>\n",
       "</div>"
      ],
      "text/plain": [
       "Empty DataFrame\n",
       "Columns: [name, sequence]\n",
       "Index: []"
      ]
     },
     "execution_count": 125,
     "metadata": {},
     "output_type": "execute_result"
    }
   ],
   "source": [
    "df[df.sequence.isin(candidates)]"
   ]
  },
  {
   "cell_type": "code",
   "execution_count": 139,
   "id": "certified-marijuana",
   "metadata": {},
   "outputs": [],
   "source": [
    "#df[df.name==\"EHEE_r4_0882\"]"
   ]
  },
  {
   "cell_type": "code",
   "execution_count": 130,
   "id": "combined-brave",
   "metadata": {},
   "outputs": [
    {
     "data": {
      "text/html": [
       "<div>\n",
       "<style scoped>\n",
       "    .dataframe tbody tr th:only-of-type {\n",
       "        vertical-align: middle;\n",
       "    }\n",
       "\n",
       "    .dataframe tbody tr th {\n",
       "        vertical-align: top;\n",
       "    }\n",
       "\n",
       "    .dataframe thead th {\n",
       "        text-align: right;\n",
       "    }\n",
       "</style>\n",
       "<table border=\"1\" class=\"dataframe\">\n",
       "  <thead>\n",
       "    <tr style=\"text-align: right;\">\n",
       "      <th></th>\n",
       "      <th>Unnamed: 0</th>\n",
       "      <th>name</th>\n",
       "      <th>sequence</th>\n",
       "      <th>secondary_structure</th>\n",
       "      <th>stabilityscore</th>\n",
       "      <th>wt_name</th>\n",
       "    </tr>\n",
       "  </thead>\n",
       "  <tbody>\n",
       "  </tbody>\n",
       "</table>\n",
       "</div>"
      ],
      "text/plain": [
       "Empty DataFrame\n",
       "Columns: [Unnamed: 0, name, sequence, secondary_structure, stabilityscore, wt_name]\n",
       "Index: []"
      ]
     },
     "execution_count": 130,
     "metadata": {},
     "output_type": "execute_result"
    }
   ],
   "source": [
    "# check train multi\n",
    "train_df_multi[~train_df_multi.wt_name.isin(pdb_names)]"
   ]
  },
  {
   "cell_type": "code",
   "execution_count": 132,
   "id": "statutory-increase",
   "metadata": {},
   "outputs": [
    {
     "data": {
      "text/plain": [
       "32    EHEE_0882\n",
       "37     HHH_0142\n",
       "Name: wt_name, dtype: object"
      ]
     },
     "execution_count": 132,
     "metadata": {},
     "output_type": "execute_result"
    }
   ],
   "source": [
    "test_df_single[~test_df_single.wt_name.isin(pdb_names)].wt_name.drop_duplicates()"
   ]
  },
  {
   "cell_type": "code",
   "execution_count": 133,
   "id": "threaded-arena",
   "metadata": {},
   "outputs": [
    {
     "data": {
      "text/html": [
       "<div>\n",
       "<style scoped>\n",
       "    .dataframe tbody tr th:only-of-type {\n",
       "        vertical-align: middle;\n",
       "    }\n",
       "\n",
       "    .dataframe tbody tr th {\n",
       "        vertical-align: top;\n",
       "    }\n",
       "\n",
       "    .dataframe thead th {\n",
       "        text-align: right;\n",
       "    }\n",
       "</style>\n",
       "<table border=\"1\" class=\"dataframe\">\n",
       "  <thead>\n",
       "    <tr style=\"text-align: right;\">\n",
       "      <th></th>\n",
       "      <th>Unnamed: 0</th>\n",
       "      <th>name</th>\n",
       "      <th>sequence</th>\n",
       "      <th>secondary_structure</th>\n",
       "      <th>stabilityscore</th>\n",
       "      <th>wt_name</th>\n",
       "    </tr>\n",
       "  </thead>\n",
       "  <tbody>\n",
       "  </tbody>\n",
       "</table>\n",
       "</div>"
      ],
      "text/plain": [
       "Empty DataFrame\n",
       "Columns: [Unnamed: 0, name, sequence, secondary_structure, stabilityscore, wt_name]\n",
       "Index: []"
      ]
     },
     "execution_count": 133,
     "metadata": {},
     "output_type": "execute_result"
    }
   ],
   "source": [
    "test_df_multi[~test_df_multi.wt_name.isin(pdb_names)]"
   ]
  },
  {
   "cell_type": "code",
   "execution_count": 144,
   "id": "impossible-excitement",
   "metadata": {},
   "outputs": [],
   "source": [
    "wt_names = set(\n",
    "    list(train_df_single.wt_name.drop_duplicates())+list(test_df_single.wt_name.drop_duplicates()) + \n",
    "    list(train_df_multi.wt_name.drop_duplicates())+list(test_df_multi.wt_name.drop_duplicates())\n",
    ")"
   ]
  },
  {
   "cell_type": "code",
   "execution_count": 236,
   "id": "heated-portuguese",
   "metadata": {},
   "outputs": [],
   "source": [
    "df_filtered = df.loc[(df.name.isin(wt_names)) | (df.name == \"HHH_rd1_0142\") | (pdb_df.name == \"EHEE_rd1_0882\")]"
   ]
  },
  {
   "cell_type": "code",
   "execution_count": 237,
   "id": "elect-reality",
   "metadata": {},
   "outputs": [
    {
     "data": {
      "text/plain": [
       "12443"
      ]
     },
     "execution_count": 237,
     "metadata": {},
     "output_type": "execute_result"
    }
   ],
   "source": [
    "len(wt_names)"
   ]
  },
  {
   "cell_type": "code",
   "execution_count": 238,
   "id": "scientific-bhutan",
   "metadata": {},
   "outputs": [],
   "source": [
    "df_filtered.loc[df_filtered.name == \"HHH_rd1_0142\", \"name\"] = \"HHH_0142\"\n",
    "df_filtered.loc[df_filtered.name == \"EHEE_rd1_0882\", \"name\"] = \"EHEE_0882\""
   ]
  },
  {
   "cell_type": "code",
   "execution_count": 239,
   "id": "imperial-asian",
   "metadata": {},
   "outputs": [
    {
     "data": {
      "text/html": [
       "<div>\n",
       "<style scoped>\n",
       "    .dataframe tbody tr th:only-of-type {\n",
       "        vertical-align: middle;\n",
       "    }\n",
       "\n",
       "    .dataframe tbody tr th {\n",
       "        vertical-align: top;\n",
       "    }\n",
       "\n",
       "    .dataframe thead th {\n",
       "        text-align: right;\n",
       "    }\n",
       "</style>\n",
       "<table border=\"1\" class=\"dataframe\">\n",
       "  <thead>\n",
       "    <tr style=\"text-align: right;\">\n",
       "      <th></th>\n",
       "      <th>name</th>\n",
       "      <th>sequence</th>\n",
       "    </tr>\n",
       "  </thead>\n",
       "  <tbody>\n",
       "    <tr>\n",
       "      <th>0</th>\n",
       "      <td>EEHEE_rd1_0001</td>\n",
       "      <td>QEVNSGTQTYKNASPEEAERIARKAGATTWTEKGNKWEIRI</td>\n",
       "    </tr>\n",
       "    <tr>\n",
       "      <th>1</th>\n",
       "      <td>EEHEE_rd1_0002</td>\n",
       "      <td>YELEVGNYRYRADDPEQLKEEAKKVGARDVQTDGNNFKVRG</td>\n",
       "    </tr>\n",
       "    <tr>\n",
       "      <th>2</th>\n",
       "      <td>EEHEE_rd1_0003</td>\n",
       "      <td>WRVHFRGETYTADTEDDAKQLAKDAGARRIESSNGEVRVEL</td>\n",
       "    </tr>\n",
       "    <tr>\n",
       "      <th>3</th>\n",
       "      <td>EEHEE_rd1_0004</td>\n",
       "      <td>YTIEENGEKYTFRTRDEAEEWARRQGAQTVETRGTELRSRA</td>\n",
       "    </tr>\n",
       "    <tr>\n",
       "      <th>4</th>\n",
       "      <td>EEHEE_rd1_0005</td>\n",
       "      <td>VELEDNGRRVEATSTQEARDRAKKEGATTWTESGTRIEVRG</td>\n",
       "    </tr>\n",
       "    <tr>\n",
       "      <th>...</th>\n",
       "      <td>...</td>\n",
       "      <td>...</td>\n",
       "    </tr>\n",
       "    <tr>\n",
       "      <th>12458</th>\n",
       "      <td>HHH_rd3_0246</td>\n",
       "      <td>RPEQEELKKLAKKLNLDPREAEEAYDKANGNLEEAKKILKKLA</td>\n",
       "    </tr>\n",
       "    <tr>\n",
       "      <th>12459</th>\n",
       "      <td>HHH_rd3_0247</td>\n",
       "      <td>TPELKKEVQKALKNGVSPDEVEKYLKELGVDPEEAKKLAKYAE</td>\n",
       "    </tr>\n",
       "    <tr>\n",
       "      <th>12460</th>\n",
       "      <td>HHH_rd3_0248</td>\n",
       "      <td>PEEEAKRRAEEALDRGDEDKARKILEKAGISPEEAQKVIDKLR</td>\n",
       "    </tr>\n",
       "    <tr>\n",
       "      <th>12461</th>\n",
       "      <td>HHH_rd3_0249</td>\n",
       "      <td>SDKEKEAEELLKRANGDVETAKEIAKRRGNEEVARLAQEIWEK</td>\n",
       "    </tr>\n",
       "    <tr>\n",
       "      <th>12462</th>\n",
       "      <td>HHH_rd3_0250</td>\n",
       "      <td>DPKEVAREFVRAEREGNEEEAERIAKSYNIDPEEARKIFKKAF</td>\n",
       "    </tr>\n",
       "  </tbody>\n",
       "</table>\n",
       "<p>12441 rows × 2 columns</p>\n",
       "</div>"
      ],
      "text/plain": [
       "                 name                                     sequence\n",
       "0      EEHEE_rd1_0001    QEVNSGTQTYKNASPEEAERIARKAGATTWTEKGNKWEIRI\n",
       "1      EEHEE_rd1_0002    YELEVGNYRYRADDPEQLKEEAKKVGARDVQTDGNNFKVRG\n",
       "2      EEHEE_rd1_0003    WRVHFRGETYTADTEDDAKQLAKDAGARRIESSNGEVRVEL\n",
       "3      EEHEE_rd1_0004    YTIEENGEKYTFRTRDEAEEWARRQGAQTVETRGTELRSRA\n",
       "4      EEHEE_rd1_0005    VELEDNGRRVEATSTQEARDRAKKEGATTWTESGTRIEVRG\n",
       "...               ...                                          ...\n",
       "12458    HHH_rd3_0246  RPEQEELKKLAKKLNLDPREAEEAYDKANGNLEEAKKILKKLA\n",
       "12459    HHH_rd3_0247  TPELKKEVQKALKNGVSPDEVEKYLKELGVDPEEAKKLAKYAE\n",
       "12460    HHH_rd3_0248  PEEEAKRRAEEALDRGDEDKARKILEKAGISPEEAQKVIDKLR\n",
       "12461    HHH_rd3_0249  SDKEKEAEELLKRANGDVETAKEIAKRRGNEEVARLAQEIWEK\n",
       "12462    HHH_rd3_0250  DPKEVAREFVRAEREGNEEEAERIAKSYNIDPEEARKIFKKAF\n",
       "\n",
       "[12441 rows x 2 columns]"
      ]
     },
     "execution_count": 239,
     "metadata": {},
     "output_type": "execute_result"
    }
   ],
   "source": [
    "df_filtered"
   ]
  },
  {
   "cell_type": "code",
   "execution_count": 240,
   "id": "continent-formation",
   "metadata": {},
   "outputs": [],
   "source": [
    "pdb_df = pdb_df.loc[pdb_df.name.isin(wt_names) | (pdb_df.name == \"HHH_rd1_0142\") | (pdb_df.name == \"EHEE_rd1_0882\")]"
   ]
  },
  {
   "cell_type": "code",
   "execution_count": 241,
   "id": "activated-mills",
   "metadata": {},
   "outputs": [],
   "source": [
    "pdb_df.loc[pdb_df.name == \"HHH_rd1_0142\", \"name\"] = \"HHH_0142\"\n",
    "pdb_df.loc[pdb_df.name == \"EHEE_rd1_0882\", \"name\"] = \"EHEE_0882\""
   ]
  },
  {
   "cell_type": "code",
   "execution_count": 242,
   "id": "norman-maintenance",
   "metadata": {},
   "outputs": [],
   "source": [
    "pdb_df_merged = pdb_df.merge(df_filtered, on=\"name\")\n",
    "pdb_df_merged.to_csv(\"../data/pdb_names.csv\", index=None) # we'll need to make contact maps from these files"
   ]
  },
  {
   "cell_type": "code",
   "execution_count": 243,
   "id": "completed-representative",
   "metadata": {},
   "outputs": [],
   "source": [
    "target_dir = \"../data/pdb/contact_maps\"\n",
    "if not os.path.exists(target_dir):\n",
    "    os.makedirs(target_dir)"
   ]
  },
  {
   "cell_type": "code",
   "execution_count": 187,
   "id": "operating-malawi",
   "metadata": {},
   "outputs": [],
   "source": [
    "for name, path in pdb_df.values:\n",
    "    break"
   ]
  },
  {
   "cell_type": "code",
   "execution_count": 247,
   "id": "dedicated-moderator",
   "metadata": {},
   "outputs": [
    {
     "data": {
      "text/html": [
       "<div>\n",
       "<style scoped>\n",
       "    .dataframe tbody tr th:only-of-type {\n",
       "        vertical-align: middle;\n",
       "    }\n",
       "\n",
       "    .dataframe tbody tr th {\n",
       "        vertical-align: top;\n",
       "    }\n",
       "\n",
       "    .dataframe thead th {\n",
       "        text-align: right;\n",
       "    }\n",
       "</style>\n",
       "<table border=\"1\" class=\"dataframe\">\n",
       "  <thead>\n",
       "    <tr style=\"text-align: right;\">\n",
       "      <th></th>\n",
       "      <th>Unnamed: 0</th>\n",
       "      <th>name</th>\n",
       "      <th>sequence</th>\n",
       "      <th>secondary_structure</th>\n",
       "      <th>stabilityscore</th>\n",
       "      <th>wt_name</th>\n",
       "    </tr>\n",
       "  </thead>\n",
       "  <tbody>\n",
       "  </tbody>\n",
       "</table>\n",
       "</div>"
      ],
      "text/plain": [
       "Empty DataFrame\n",
       "Columns: [Unnamed: 0, name, sequence, secondary_structure, stabilityscore, wt_name]\n",
       "Index: []"
      ]
     },
     "execution_count": 247,
     "metadata": {},
     "output_type": "execute_result"
    }
   ],
   "source": [
    "#pdb_df_merged.name\n",
    "test_df_single[~test_df_single.wt_name.isin(pdb_df_merged.name)]"
   ]
  },
  {
   "cell_type": "code",
   "execution_count": 200,
   "id": "premier-folder",
   "metadata": {},
   "outputs": [],
   "source": [
    "# test_df_single[test_df_single.wt_name==\"EHEE_0882\"]\n",
    "merged = train_df_single.merge(pdb_df_merged, left_on=\"wt_name\", right_on=\"name\")\n"
   ]
  },
  {
   "cell_type": "code",
   "execution_count": 207,
   "id": "motivated-mountain",
   "metadata": {},
   "outputs": [
    {
     "name": "stdout",
     "output_type": "stream",
     "text": [
      "43 40\n"
     ]
    }
   ],
   "source": [
    "for s1, s2 in merged[[\"sequence_x\", \"sequence_y\"]].values:\n",
    "    print(len(s1), len(s2))\n",
    "    break"
   ]
  },
  {
   "cell_type": "code",
   "execution_count": 230,
   "id": "developmental-tsunami",
   "metadata": {},
   "outputs": [
    {
     "data": {
      "text/plain": [
       "1"
      ]
     },
     "execution_count": 230,
     "metadata": {},
     "output_type": "execute_result"
    }
   ],
   "source": [
    "np.sum([a != b for a, b in zip(s1[3:], s2)])"
   ]
  },
  {
   "cell_type": "code",
   "execution_count": 232,
   "id": "hired-forest",
   "metadata": {},
   "outputs": [
    {
     "data": {
      "text/html": [
       "<div>\n",
       "<style scoped>\n",
       "    .dataframe tbody tr th:only-of-type {\n",
       "        vertical-align: middle;\n",
       "    }\n",
       "\n",
       "    .dataframe tbody tr th {\n",
       "        vertical-align: top;\n",
       "    }\n",
       "\n",
       "    .dataframe thead th {\n",
       "        text-align: right;\n",
       "    }\n",
       "</style>\n",
       "<table border=\"1\" class=\"dataframe\">\n",
       "  <thead>\n",
       "    <tr style=\"text-align: right;\">\n",
       "      <th></th>\n",
       "      <th>name</th>\n",
       "      <th>path</th>\n",
       "      <th>sequence</th>\n",
       "    </tr>\n",
       "  </thead>\n",
       "  <tbody>\n",
       "    <tr>\n",
       "      <th>0</th>\n",
       "      <td>EEHEE_rd1_0001</td>\n",
       "      <td>../data/pdb/rd1/EEHEE_rd1_0001.pdb</td>\n",
       "      <td>QEVNSGTQTYKNASPEEAERIARKAGATTWTEKGNKWEIRI</td>\n",
       "    </tr>\n",
       "    <tr>\n",
       "      <th>1</th>\n",
       "      <td>EEHEE_rd1_0002</td>\n",
       "      <td>../data/pdb/rd1/EEHEE_rd1_0002.pdb</td>\n",
       "      <td>YELEVGNYRYRADDPEQLKEEAKKVGARDVQTDGNNFKVRG</td>\n",
       "    </tr>\n",
       "    <tr>\n",
       "      <th>2</th>\n",
       "      <td>EEHEE_rd1_0003</td>\n",
       "      <td>../data/pdb/rd1/EEHEE_rd1_0003.pdb</td>\n",
       "      <td>WRVHFRGETYTADTEDDAKQLAKDAGARRIESSNGEVRVEL</td>\n",
       "    </tr>\n",
       "    <tr>\n",
       "      <th>3</th>\n",
       "      <td>EEHEE_rd1_0004</td>\n",
       "      <td>../data/pdb/rd1/EEHEE_rd1_0004.pdb</td>\n",
       "      <td>YTIEENGEKYTFRTRDEAEEWARRQGAQTVETRGTELRSRA</td>\n",
       "    </tr>\n",
       "    <tr>\n",
       "      <th>4</th>\n",
       "      <td>EEHEE_rd1_0005</td>\n",
       "      <td>../data/pdb/rd1/EEHEE_rd1_0005.pdb</td>\n",
       "      <td>VELEDNGRRVEATSTQEARDRAKKEGATTWTESGTRIEVRG</td>\n",
       "    </tr>\n",
       "  </tbody>\n",
       "</table>\n",
       "</div>"
      ],
      "text/plain": [
       "             name                                path  \\\n",
       "0  EEHEE_rd1_0001  ../data/pdb/rd1/EEHEE_rd1_0001.pdb   \n",
       "1  EEHEE_rd1_0002  ../data/pdb/rd1/EEHEE_rd1_0002.pdb   \n",
       "2  EEHEE_rd1_0003  ../data/pdb/rd1/EEHEE_rd1_0003.pdb   \n",
       "3  EEHEE_rd1_0004  ../data/pdb/rd1/EEHEE_rd1_0004.pdb   \n",
       "4  EEHEE_rd1_0005  ../data/pdb/rd1/EEHEE_rd1_0005.pdb   \n",
       "\n",
       "                                    sequence  \n",
       "0  QEVNSGTQTYKNASPEEAERIARKAGATTWTEKGNKWEIRI  \n",
       "1  YELEVGNYRYRADDPEQLKEEAKKVGARDVQTDGNNFKVRG  \n",
       "2  WRVHFRGETYTADTEDDAKQLAKDAGARRIESSNGEVRVEL  \n",
       "3  YTIEENGEKYTFRTRDEAEEWARRQGAQTVETRGTELRSRA  \n",
       "4  VELEDNGRRVEATSTQEARDRAKKEGATTWTESGTRIEVRG  "
      ]
     },
     "execution_count": 232,
     "metadata": {},
     "output_type": "execute_result"
    }
   ],
   "source": [
    "pdb_df_merged[pdb_df_merged.sequence.apply(len) < 43].head()"
   ]
  },
  {
   "cell_type": "code",
   "execution_count": 214,
   "id": "living-swimming",
   "metadata": {},
   "outputs": [
    {
     "name": "stderr",
     "output_type": "stream",
     "text": [
      "@> 648 atoms and 1 coordinate set(s) were parsed in 0.01s.\n"
     ]
    },
    {
     "data": {
      "text/plain": [
       "41"
      ]
     },
     "execution_count": 214,
     "metadata": {},
     "output_type": "execute_result"
    }
   ],
   "source": [
    "parsePDB(\"../data/pdb/rd1/EEHEE_rd1_0001.pdb\").numResidues()"
   ]
  },
  {
   "cell_type": "code",
   "execution_count": 252,
   "id": "cooperative-traveler",
   "metadata": {},
   "outputs": [],
   "source": [
    "# !cat ../data/pdb/rd1/EEHEE_rd1_0001.pdb\n"
   ]
  },
  {
   "cell_type": "code",
   "execution_count": 250,
   "id": "utility-subscription",
   "metadata": {},
   "outputs": [
    {
     "data": {
      "text/html": [
       "<div>\n",
       "<style scoped>\n",
       "    .dataframe tbody tr th:only-of-type {\n",
       "        vertical-align: middle;\n",
       "    }\n",
       "\n",
       "    .dataframe tbody tr th {\n",
       "        vertical-align: top;\n",
       "    }\n",
       "\n",
       "    .dataframe thead th {\n",
       "        text-align: right;\n",
       "    }\n",
       "</style>\n",
       "<table border=\"1\" class=\"dataframe\">\n",
       "  <thead>\n",
       "    <tr style=\"text-align: right;\">\n",
       "      <th></th>\n",
       "      <th>name</th>\n",
       "      <th>path</th>\n",
       "    </tr>\n",
       "  </thead>\n",
       "  <tbody>\n",
       "    <tr>\n",
       "      <th>0</th>\n",
       "      <td>EEHEE_rd1_0001</td>\n",
       "      <td>../data/pdb/rd1/EEHEE_rd1_0001.pdb</td>\n",
       "    </tr>\n",
       "    <tr>\n",
       "      <th>1</th>\n",
       "      <td>EEHEE_rd1_0002</td>\n",
       "      <td>../data/pdb/rd1/EEHEE_rd1_0002.pdb</td>\n",
       "    </tr>\n",
       "    <tr>\n",
       "      <th>2</th>\n",
       "      <td>EEHEE_rd1_0003</td>\n",
       "      <td>../data/pdb/rd1/EEHEE_rd1_0003.pdb</td>\n",
       "    </tr>\n",
       "    <tr>\n",
       "      <th>3</th>\n",
       "      <td>EEHEE_rd1_0004</td>\n",
       "      <td>../data/pdb/rd1/EEHEE_rd1_0004.pdb</td>\n",
       "    </tr>\n",
       "    <tr>\n",
       "      <th>4</th>\n",
       "      <td>EEHEE_rd1_0005</td>\n",
       "      <td>../data/pdb/rd1/EEHEE_rd1_0005.pdb</td>\n",
       "    </tr>\n",
       "  </tbody>\n",
       "</table>\n",
       "</div>"
      ],
      "text/plain": [
       "             name                                path\n",
       "0  EEHEE_rd1_0001  ../data/pdb/rd1/EEHEE_rd1_0001.pdb\n",
       "1  EEHEE_rd1_0002  ../data/pdb/rd1/EEHEE_rd1_0002.pdb\n",
       "2  EEHEE_rd1_0003  ../data/pdb/rd1/EEHEE_rd1_0003.pdb\n",
       "3  EEHEE_rd1_0004  ../data/pdb/rd1/EEHEE_rd1_0004.pdb\n",
       "4  EEHEE_rd1_0005  ../data/pdb/rd1/EEHEE_rd1_0005.pdb"
      ]
     },
     "execution_count": 250,
     "metadata": {},
     "output_type": "execute_result"
    }
   ],
   "source": [
    "pdb_df.head()"
   ]
  },
  {
   "cell_type": "code",
   "execution_count": 227,
   "id": "magnetic-hours",
   "metadata": {},
   "outputs": [
    {
     "data": {
      "text/html": [
       "<div>\n",
       "<style scoped>\n",
       "    .dataframe tbody tr th:only-of-type {\n",
       "        vertical-align: middle;\n",
       "    }\n",
       "\n",
       "    .dataframe tbody tr th {\n",
       "        vertical-align: top;\n",
       "    }\n",
       "\n",
       "    .dataframe thead th {\n",
       "        text-align: right;\n",
       "    }\n",
       "</style>\n",
       "<table border=\"1\" class=\"dataframe\">\n",
       "  <thead>\n",
       "    <tr style=\"text-align: right;\">\n",
       "      <th></th>\n",
       "      <th>name</th>\n",
       "      <th>sequence</th>\n",
       "    </tr>\n",
       "  </thead>\n",
       "  <tbody>\n",
       "    <tr>\n",
       "      <th>2034</th>\n",
       "      <td>EHEE_rd1_0882</td>\n",
       "      <td>QETIEVEDEEEARRVAKELRKKGYEVKIERRGNKWHVHRT</td>\n",
       "    </tr>\n",
       "  </tbody>\n",
       "</table>\n",
       "</div>"
      ],
      "text/plain": [
       "               name                                  sequence\n",
       "2034  EHEE_rd1_0882  QETIEVEDEEEARRVAKELRKKGYEVKIERRGNKWHVHRT"
      ]
     },
     "execution_count": 227,
     "metadata": {},
     "output_type": "execute_result"
    }
   ],
   "source": [
    "df[df.sequence == \"GSSQETIEVEDEEEARRVAKELRKKGYEVKIERRGNKWHVHRT\"[3:]]"
   ]
  },
  {
   "cell_type": "markdown",
   "id": "patient-toolbox",
   "metadata": {},
   "source": [
    "## Conclusions\n",
    "1. many pdb files have 1 to 3 residues (mostly from n-terminus) missing in comparison with our train and test data.\n",
    "2. we can still use these structures to build contact maps, but they will vary in size.\n",
    "3. We can fill the gaps in these maps with zeros (using offset information)\n",
    "4. For contact map we can add mask layer, which has zeros at positions (both horisontal and vertical) where aminoacids are mutated and 1 - in remaining positions\n",
    "5. After that we can use resnet or any other SOTA cv architecture."
   ]
  },
  {
   "cell_type": "code",
   "execution_count": 257,
   "id": "widespread-absolute",
   "metadata": {},
   "outputs": [],
   "source": [
    "merged = train_df_single.merge(pdb_df_merged, left_on=\"wt_name\", right_on=\"name\")\n"
   ]
  },
  {
   "cell_type": "code",
   "execution_count": 258,
   "id": "super-hometown",
   "metadata": {},
   "outputs": [],
   "source": [
    "for name, s1, s2 in merged[[\"wt_name\", 'sequence_x', \"sequence_y\"]].values:\n",
    "    offset = \n",
    "    if len(s1) != len(s2):\n",
    "        offset = \n",
    "        \n",
    "    m = len(s1)\n",
    "    break"
   ]
  },
  {
   "cell_type": "code",
   "execution_count": 260,
   "id": "banner-presence",
   "metadata": {},
   "outputs": [
    {
     "data": {
      "text/plain": [
       "43"
      ]
     },
     "execution_count": 260,
     "metadata": {},
     "output_type": "execute_result"
    }
   ],
   "source": [
    "len(s1)"
   ]
  },
  {
   "cell_type": "code",
   "execution_count": 348,
   "id": "iraqi-preservation",
   "metadata": {},
   "outputs": [],
   "source": [
    "from collections import Counter\n",
    "\n",
    "consensuses = []\n",
    "ds = pd.concat([train_df_single, train_df_multi, test_df_single, test_df_multi], ignore_index=True)\n",
    "names = ds.wt_name.drop_duplicates()\n",
    "for name in names:\n",
    "    ids = ds.wt_name == name\n",
    "    row = ds.loc[ids, \"sequence\"].values\n",
    "    wt = [\n",
    "        sorted(Counter(xs).items(), key=lambda x: -x[1])[0][0] \n",
    "        for xs in zip(*ds.loc[ids, \"sequence\"].apply(list).values)\n",
    "    ]\n",
    "    consensuses.append({\n",
    "        \"wt_name\": name,\n",
    "        \"wt_sequence\": \"\".join(wt)\n",
    "    })"
   ]
  },
  {
   "cell_type": "code",
   "execution_count": null,
   "id": "unlike-mathematics",
   "metadata": {},
   "outputs": [],
   "source": []
  },
  {
   "cell_type": "code",
   "execution_count": 349,
   "id": "interracial-margin",
   "metadata": {},
   "outputs": [],
   "source": [
    "df_consensuses = pd.DataFrame(consensuses).drop_duplicates()\n",
    "df_consensuses.to_csv(\"../data/wt_sequences.csv\", index=None)"
   ]
  },
  {
   "cell_type": "code",
   "execution_count": 350,
   "id": "assured-recall",
   "metadata": {},
   "outputs": [
    {
     "data": {
      "text/html": [
       "<div>\n",
       "<style scoped>\n",
       "    .dataframe tbody tr th:only-of-type {\n",
       "        vertical-align: middle;\n",
       "    }\n",
       "\n",
       "    .dataframe tbody tr th {\n",
       "        vertical-align: top;\n",
       "    }\n",
       "\n",
       "    .dataframe thead th {\n",
       "        text-align: right;\n",
       "    }\n",
       "</style>\n",
       "<table border=\"1\" class=\"dataframe\">\n",
       "  <thead>\n",
       "    <tr style=\"text-align: right;\">\n",
       "      <th></th>\n",
       "      <th>wt_name</th>\n",
       "      <th>wt_sequence</th>\n",
       "    </tr>\n",
       "  </thead>\n",
       "  <tbody>\n",
       "    <tr>\n",
       "      <th>0</th>\n",
       "      <td>EHEE_rd2_0005</td>\n",
       "      <td>GSSTTRYRFTDEEEARRAAKEWARRGYQVHVTQNGTYWEVEVR</td>\n",
       "    </tr>\n",
       "    <tr>\n",
       "      <th>1</th>\n",
       "      <td>HHH_rd2_0134</td>\n",
       "      <td>SKDEAQREAERAIRSGNKEEARRILEEAGYSPEQAERIIRKLG</td>\n",
       "    </tr>\n",
       "    <tr>\n",
       "      <th>2</th>\n",
       "      <td>EHEE_0882</td>\n",
       "      <td>GSSQETIEVEDEEEARRVAKELRKKGYEVKIERRGNKWHVHRT</td>\n",
       "    </tr>\n",
       "    <tr>\n",
       "      <th>3</th>\n",
       "      <td>EEHEE_rd3_1716</td>\n",
       "      <td>TEVHLGDIKLKYPNPEQAKKAAEKLAQKYNLTWTVIGDYVKIE</td>\n",
       "    </tr>\n",
       "    <tr>\n",
       "      <th>4</th>\n",
       "      <td>EEHEE_rd3_1498</td>\n",
       "      <td>GTLHLNGVTVKVPSLEKAIKAAKKFAKKYNLEVQVHGNTVHVH</td>\n",
       "    </tr>\n",
       "  </tbody>\n",
       "</table>\n",
       "</div>"
      ],
      "text/plain": [
       "          wt_name                                  wt_sequence\n",
       "0   EHEE_rd2_0005  GSSTTRYRFTDEEEARRAAKEWARRGYQVHVTQNGTYWEVEVR\n",
       "1    HHH_rd2_0134  SKDEAQREAERAIRSGNKEEARRILEEAGYSPEQAERIIRKLG\n",
       "2       EHEE_0882  GSSQETIEVEDEEEARRVAKELRKKGYEVKIERRGNKWHVHRT\n",
       "3  EEHEE_rd3_1716  TEVHLGDIKLKYPNPEQAKKAAEKLAQKYNLTWTVIGDYVKIE\n",
       "4  EEHEE_rd3_1498  GTLHLNGVTVKVPSLEKAIKAAKKFAKKYNLEVQVHGNTVHVH"
      ]
     },
     "execution_count": 350,
     "metadata": {},
     "output_type": "execute_result"
    }
   ],
   "source": [
    "df_consensuses.head()  # now we know wt sequences (as they can be deduced from datasets).\n",
    "# we need to deduce it only because the data is dirty and missing some information"
   ]
  },
  {
   "cell_type": "code",
   "execution_count": 351,
   "id": "sacred-crime",
   "metadata": {},
   "outputs": [],
   "source": [
    "df_merged_new = pdb_df_merged.merge(df_consensuses, left_on=\"name\", right_on=\"wt_name\", how=\"left\")"
   ]
  },
  {
   "cell_type": "code",
   "execution_count": 356,
   "id": "virtual-buying",
   "metadata": {},
   "outputs": [
    {
     "data": {
      "application/vnd.jupyter.widget-view+json": {
       "model_id": "2d54f84633d74f97b279dab0a3d6900f",
       "version_major": 2,
       "version_minor": 0
      },
      "text/plain": [
       "  0%|          | 0/12441 [00:00<?, ?it/s]"
      ]
     },
     "metadata": {},
     "output_type": "display_data"
    }
   ],
   "source": [
    "for name, s, wt in tqdm_notebook(df_merged_new[[\"name\", 'sequence', \"wt_sequence\"]].values):\n",
    "    offset = len(wt) - len(s)\n",
    "    pos = [(offset+i, a, b) for i, (a, b) in enumerate(zip(wt[offset:], s)) if a != b]\n",
    "    if len(pos) > 10:\n",
    "        continue\n",
    "    break"
   ]
  },
  {
   "cell_type": "code",
   "execution_count": 357,
   "id": "covered-amplifier",
   "metadata": {},
   "outputs": [
    {
     "data": {
      "text/plain": [
       "[(5, 'D', 'E'), (24, 'R', 'K')]"
      ]
     },
     "execution_count": 357,
     "metadata": {},
     "output_type": "execute_result"
    }
   ],
   "source": [
    "[(offset+i, a, b) for i, (a, b) in enumerate(zip(wt[offset:], s)) if a != b]"
   ]
  },
  {
   "cell_type": "code",
   "execution_count": 359,
   "id": "mounted-orientation",
   "metadata": {},
   "outputs": [
    {
     "data": {
      "text/html": [
       "<div>\n",
       "<style scoped>\n",
       "    .dataframe tbody tr th:only-of-type {\n",
       "        vertical-align: middle;\n",
       "    }\n",
       "\n",
       "    .dataframe tbody tr th {\n",
       "        vertical-align: top;\n",
       "    }\n",
       "\n",
       "    .dataframe thead th {\n",
       "        text-align: right;\n",
       "    }\n",
       "</style>\n",
       "<table border=\"1\" class=\"dataframe\">\n",
       "  <thead>\n",
       "    <tr style=\"text-align: right;\">\n",
       "      <th></th>\n",
       "      <th>Unnamed: 0</th>\n",
       "      <th>name</th>\n",
       "      <th>sequence</th>\n",
       "      <th>secondary_structure</th>\n",
       "      <th>stabilityscore</th>\n",
       "      <th>wt_name</th>\n",
       "    </tr>\n",
       "  </thead>\n",
       "  <tbody>\n",
       "    <tr>\n",
       "      <th>0</th>\n",
       "      <td>0</td>\n",
       "      <td>EHEE_rd2_0005.pdb_V26L</td>\n",
       "      <td>GSSTTRYRFTDEEEARRAAKEWARRGYQLHVTQNGTYWEVEVR</td>\n",
       "      <td>TTTTEEEEETTHHHHHHHHHHHHHHTTTEEEEEETTEEEEEET</td>\n",
       "      <td>1.72</td>\n",
       "      <td>EHEE_rd2_0005</td>\n",
       "    </tr>\n",
       "    <tr>\n",
       "      <th>1</th>\n",
       "      <td>1</td>\n",
       "      <td>HHH_rd2_0134.pdb_R22D</td>\n",
       "      <td>SKDEAQREAERAIRSGNKEEADRILEEAGYSPEQAERIIRKLG</td>\n",
       "      <td>THHHHHHHHHHHHHTTTHHHHHHHHHHHTTTHHHHHHHHHHHT</td>\n",
       "      <td>1.22</td>\n",
       "      <td>HHH_rd2_0134</td>\n",
       "    </tr>\n",
       "    <tr>\n",
       "      <th>2</th>\n",
       "      <td>2</td>\n",
       "      <td>HHH_rd2_0134.pdb_Q6K</td>\n",
       "      <td>SKDEAKREAERAIRSGNKEEARRILEEAGYSPEQAERIIRKLG</td>\n",
       "      <td>THHHHHHHHHHHHHTTTHHHHHHHHHHHTTTHHHHHHHHHHHT</td>\n",
       "      <td>1.20</td>\n",
       "      <td>HHH_rd2_0134</td>\n",
       "    </tr>\n",
       "    <tr>\n",
       "      <th>3</th>\n",
       "      <td>3</td>\n",
       "      <td>EHEE_0882.pdb_E2I</td>\n",
       "      <td>GSSQITIEVEDEEEARRVAKELRKKGYEVKIERRGNKWHVHRT</td>\n",
       "      <td>TTTTEEEEETTHHHHHHHHHHHHHHTTTEEEEEETTEEEEEET</td>\n",
       "      <td>1.59</td>\n",
       "      <td>EHEE_0882</td>\n",
       "    </tr>\n",
       "    <tr>\n",
       "      <th>4</th>\n",
       "      <td>4</td>\n",
       "      <td>EEHEE_rd3_1716.pdb_A26R</td>\n",
       "      <td>TEVHLGDIKLKYPNPEQAKKAAEKLRQKYNLTWTVIGDYVKIE</td>\n",
       "      <td>TEEEETTEEEETTTHHHHHHHHHHHHHHHTTTEEEETTEEEET</td>\n",
       "      <td>0.88</td>\n",
       "      <td>EEHEE_rd3_1716</td>\n",
       "    </tr>\n",
       "    <tr>\n",
       "      <th>...</th>\n",
       "      <td>...</td>\n",
       "      <td>...</td>\n",
       "      <td>...</td>\n",
       "      <td>...</td>\n",
       "      <td>...</td>\n",
       "      <td>...</td>\n",
       "    </tr>\n",
       "    <tr>\n",
       "      <th>47169</th>\n",
       "      <td>7294</td>\n",
       "      <td>EEHEE_rd3_0638.pdb</td>\n",
       "      <td>TQVEFNGTTYQASSQEEAKKVAKKAAKIWNLTVHIHGDTIKLT</td>\n",
       "      <td>TEEEETTEEEETTTHHHHHHHHHHHHHHHTTTEEEETTEEEET</td>\n",
       "      <td>0.71</td>\n",
       "      <td>EEHEE_rd3_0638</td>\n",
       "    </tr>\n",
       "    <tr>\n",
       "      <th>47170</th>\n",
       "      <td>7295</td>\n",
       "      <td>HEEH_rd3_1271.pdb_buryD</td>\n",
       "      <td>PQEAIKAAQIAEKKGLKTVTVGNYTVTVSSPEEDQKVIKKLKK</td>\n",
       "      <td>THHHHHHHHHHHHHTTEEEETTEEEETTTHHHHHHHHHHHHHT</td>\n",
       "      <td>0.20</td>\n",
       "      <td>HEEH_rd3_1271</td>\n",
       "    </tr>\n",
       "    <tr>\n",
       "      <th>47171</th>\n",
       "      <td>7296</td>\n",
       "      <td>HEEH_rd3_1368.pdb_PG_hp</td>\n",
       "      <td>DPREEAQRLIKSIKRGNKLKAEKRARVEQPTAVTELVNEIEKE</td>\n",
       "      <td>THHHHHHHHHHHHHTTEEEETTEEEETTTHHHHHHHHHHHHHT</td>\n",
       "      <td>-0.38</td>\n",
       "      <td>HEEH_rd3_1368</td>\n",
       "    </tr>\n",
       "    <tr>\n",
       "      <th>47172</th>\n",
       "      <td>7297</td>\n",
       "      <td>EEHEE_rd3_0171.pdb_buryD</td>\n",
       "      <td>KTDHVNGKTFHFDNPEAAQKAAEKAAQKDGLTVHEKNGHLKVT</td>\n",
       "      <td>TEEEETTEEEETTTHHHHHHHHHHHHHHHTTTEEEETTEEEET</td>\n",
       "      <td>0.12</td>\n",
       "      <td>EEHEE_rd3_0171</td>\n",
       "    </tr>\n",
       "    <tr>\n",
       "      <th>47173</th>\n",
       "      <td>7298</td>\n",
       "      <td>HEEH_rd3_0194.pdb</td>\n",
       "      <td>TEEKQKKAKKLAKKGIQKIQVGDVTVKAPNPEKAAKIVIKLLA</td>\n",
       "      <td>THHHHHHHHHHHHHTTEEEETTEEEETTTHHHHHHHHHHHHHT</td>\n",
       "      <td>-0.40</td>\n",
       "      <td>HEEH_rd3_0194</td>\n",
       "    </tr>\n",
       "  </tbody>\n",
       "</table>\n",
       "<p>47174 rows × 6 columns</p>\n",
       "</div>"
      ],
      "text/plain": [
       "       Unnamed: 0                      name  \\\n",
       "0               0    EHEE_rd2_0005.pdb_V26L   \n",
       "1               1     HHH_rd2_0134.pdb_R22D   \n",
       "2               2      HHH_rd2_0134.pdb_Q6K   \n",
       "3               3         EHEE_0882.pdb_E2I   \n",
       "4               4   EEHEE_rd3_1716.pdb_A26R   \n",
       "...           ...                       ...   \n",
       "47169        7294        EEHEE_rd3_0638.pdb   \n",
       "47170        7295   HEEH_rd3_1271.pdb_buryD   \n",
       "47171        7296   HEEH_rd3_1368.pdb_PG_hp   \n",
       "47172        7297  EEHEE_rd3_0171.pdb_buryD   \n",
       "47173        7298         HEEH_rd3_0194.pdb   \n",
       "\n",
       "                                          sequence  \\\n",
       "0      GSSTTRYRFTDEEEARRAAKEWARRGYQLHVTQNGTYWEVEVR   \n",
       "1      SKDEAQREAERAIRSGNKEEADRILEEAGYSPEQAERIIRKLG   \n",
       "2      SKDEAKREAERAIRSGNKEEARRILEEAGYSPEQAERIIRKLG   \n",
       "3      GSSQITIEVEDEEEARRVAKELRKKGYEVKIERRGNKWHVHRT   \n",
       "4      TEVHLGDIKLKYPNPEQAKKAAEKLRQKYNLTWTVIGDYVKIE   \n",
       "...                                            ...   \n",
       "47169  TQVEFNGTTYQASSQEEAKKVAKKAAKIWNLTVHIHGDTIKLT   \n",
       "47170  PQEAIKAAQIAEKKGLKTVTVGNYTVTVSSPEEDQKVIKKLKK   \n",
       "47171  DPREEAQRLIKSIKRGNKLKAEKRARVEQPTAVTELVNEIEKE   \n",
       "47172  KTDHVNGKTFHFDNPEAAQKAAEKAAQKDGLTVHEKNGHLKVT   \n",
       "47173  TEEKQKKAKKLAKKGIQKIQVGDVTVKAPNPEKAAKIVIKLLA   \n",
       "\n",
       "                               secondary_structure  stabilityscore  \\\n",
       "0      TTTTEEEEETTHHHHHHHHHHHHHHTTTEEEEEETTEEEEEET            1.72   \n",
       "1      THHHHHHHHHHHHHTTTHHHHHHHHHHHTTTHHHHHHHHHHHT            1.22   \n",
       "2      THHHHHHHHHHHHHTTTHHHHHHHHHHHTTTHHHHHHHHHHHT            1.20   \n",
       "3      TTTTEEEEETTHHHHHHHHHHHHHHTTTEEEEEETTEEEEEET            1.59   \n",
       "4      TEEEETTEEEETTTHHHHHHHHHHHHHHHTTTEEEETTEEEET            0.88   \n",
       "...                                            ...             ...   \n",
       "47169  TEEEETTEEEETTTHHHHHHHHHHHHHHHTTTEEEETTEEEET            0.71   \n",
       "47170  THHHHHHHHHHHHHTTEEEETTEEEETTTHHHHHHHHHHHHHT            0.20   \n",
       "47171  THHHHHHHHHHHHHTTEEEETTEEEETTTHHHHHHHHHHHHHT           -0.38   \n",
       "47172  TEEEETTEEEETTTHHHHHHHHHHHHHHHTTTEEEETTEEEET            0.12   \n",
       "47173  THHHHHHHHHHHHHTTEEEETTEEEETTTHHHHHHHHHHHHHT           -0.40   \n",
       "\n",
       "              wt_name  \n",
       "0       EHEE_rd2_0005  \n",
       "1        HHH_rd2_0134  \n",
       "2        HHH_rd2_0134  \n",
       "3           EHEE_0882  \n",
       "4      EEHEE_rd3_1716  \n",
       "...               ...  \n",
       "47169  EEHEE_rd3_0638  \n",
       "47170   HEEH_rd3_1271  \n",
       "47171   HEEH_rd3_1368  \n",
       "47172  EEHEE_rd3_0171  \n",
       "47173   HEEH_rd3_0194  \n",
       "\n",
       "[47174 rows x 6 columns]"
      ]
     },
     "execution_count": 359,
     "metadata": {},
     "output_type": "execute_result"
    }
   ],
   "source": [
    "ds[['wt_name', 'sequence']]"
   ]
  },
  {
   "cell_type": "code",
   "execution_count": 363,
   "id": "metropolitan-commitment",
   "metadata": {},
   "outputs": [
    {
     "data": {
      "text/html": [
       "<div>\n",
       "<style scoped>\n",
       "    .dataframe tbody tr th:only-of-type {\n",
       "        vertical-align: middle;\n",
       "    }\n",
       "\n",
       "    .dataframe tbody tr th {\n",
       "        vertical-align: top;\n",
       "    }\n",
       "\n",
       "    .dataframe thead th {\n",
       "        text-align: right;\n",
       "    }\n",
       "</style>\n",
       "<table border=\"1\" class=\"dataframe\">\n",
       "  <thead>\n",
       "    <tr style=\"text-align: right;\">\n",
       "      <th></th>\n",
       "      <th>Unnamed: 0</th>\n",
       "      <th>name</th>\n",
       "      <th>sequence</th>\n",
       "      <th>secondary_structure</th>\n",
       "      <th>stabilityscore</th>\n",
       "      <th>wt_name</th>\n",
       "    </tr>\n",
       "  </thead>\n",
       "  <tbody>\n",
       "    <tr>\n",
       "      <th>0</th>\n",
       "      <td>0</td>\n",
       "      <td>EHEE_rd2_0005.pdb_V26L</td>\n",
       "      <td>GSSTTRYRFTDEEEARRAAKEWARRGYQLHVTQNGTYWEVEVR</td>\n",
       "      <td>TTTTEEEEETTHHHHHHHHHHHHHHTTTEEEEEETTEEEEEET</td>\n",
       "      <td>1.72</td>\n",
       "      <td>EHEE_rd2_0005</td>\n",
       "    </tr>\n",
       "    <tr>\n",
       "      <th>1</th>\n",
       "      <td>1</td>\n",
       "      <td>HHH_rd2_0134.pdb_R22D</td>\n",
       "      <td>SKDEAQREAERAIRSGNKEEADRILEEAGYSPEQAERIIRKLG</td>\n",
       "      <td>THHHHHHHHHHHHHTTTHHHHHHHHHHHTTTHHHHHHHHHHHT</td>\n",
       "      <td>1.22</td>\n",
       "      <td>HHH_rd2_0134</td>\n",
       "    </tr>\n",
       "    <tr>\n",
       "      <th>2</th>\n",
       "      <td>2</td>\n",
       "      <td>HHH_rd2_0134.pdb_Q6K</td>\n",
       "      <td>SKDEAKREAERAIRSGNKEEARRILEEAGYSPEQAERIIRKLG</td>\n",
       "      <td>THHHHHHHHHHHHHTTTHHHHHHHHHHHTTTHHHHHHHHHHHT</td>\n",
       "      <td>1.20</td>\n",
       "      <td>HHH_rd2_0134</td>\n",
       "    </tr>\n",
       "    <tr>\n",
       "      <th>3</th>\n",
       "      <td>3</td>\n",
       "      <td>EHEE_0882.pdb_E2I</td>\n",
       "      <td>GSSQITIEVEDEEEARRVAKELRKKGYEVKIERRGNKWHVHRT</td>\n",
       "      <td>TTTTEEEEETTHHHHHHHHHHHHHHTTTEEEEEETTEEEEEET</td>\n",
       "      <td>1.59</td>\n",
       "      <td>EHEE_0882</td>\n",
       "    </tr>\n",
       "    <tr>\n",
       "      <th>4</th>\n",
       "      <td>4</td>\n",
       "      <td>EEHEE_rd3_1716.pdb_A26R</td>\n",
       "      <td>TEVHLGDIKLKYPNPEQAKKAAEKLRQKYNLTWTVIGDYVKIE</td>\n",
       "      <td>TEEEETTEEEETTTHHHHHHHHHHHHHHHTTTEEEETTEEEET</td>\n",
       "      <td>0.88</td>\n",
       "      <td>EEHEE_rd3_1716</td>\n",
       "    </tr>\n",
       "    <tr>\n",
       "      <th>...</th>\n",
       "      <td>...</td>\n",
       "      <td>...</td>\n",
       "      <td>...</td>\n",
       "      <td>...</td>\n",
       "      <td>...</td>\n",
       "      <td>...</td>\n",
       "    </tr>\n",
       "    <tr>\n",
       "      <th>8545</th>\n",
       "      <td>8545</td>\n",
       "      <td>HHH_rd2_0134.pdb_Y30N</td>\n",
       "      <td>SKDEAQREAERAIRSGNKEEARRILEEAGNSPEQAERIIRKLG</td>\n",
       "      <td>THHHHHHHHHHHHHTTTHHHHHHHHHHHTTTHHHHHHHHHHHT</td>\n",
       "      <td>1.13</td>\n",
       "      <td>HHH_rd2_0134</td>\n",
       "    </tr>\n",
       "    <tr>\n",
       "      <th>8546</th>\n",
       "      <td>8546</td>\n",
       "      <td>EHEE_rd2_0005.pdb_W35E</td>\n",
       "      <td>GSSTTRYRFTDEEEARRAAKEWARRGYQVHVTQNGTYEEVEVR</td>\n",
       "      <td>TTTTEEEEETTHHHHHHHHHHHHHHTTTEEEEEETTEEEEEET</td>\n",
       "      <td>0.44</td>\n",
       "      <td>EHEE_rd2_0005</td>\n",
       "    </tr>\n",
       "    <tr>\n",
       "      <th>8547</th>\n",
       "      <td>8547</td>\n",
       "      <td>HEEH_rd3_0872.pdb_A35T</td>\n",
       "      <td>TWQDLVKIAEKALEKGEPITINGITVTTKEQAKQTIEYLKKAY</td>\n",
       "      <td>THHHHHHHHHHHHHTTEEEETTEEEETTTHHHHHHHHHHHHHT</td>\n",
       "      <td>0.64</td>\n",
       "      <td>HEEH_rd3_0872</td>\n",
       "    </tr>\n",
       "    <tr>\n",
       "      <th>8548</th>\n",
       "      <td>8548</td>\n",
       "      <td>EEHEE_rd3_0037.pdb_E17S</td>\n",
       "      <td>TTIKVNGQEYTVPLSPSQAAKAAKKRWPDYEVQIHGNTVKVTR</td>\n",
       "      <td>TEEEETTEEEETTTHHHHHHHHHHHHHHHTTTEEEETTEEEET</td>\n",
       "      <td>0.68</td>\n",
       "      <td>EEHEE_rd3_0037</td>\n",
       "    </tr>\n",
       "    <tr>\n",
       "      <th>8549</th>\n",
       "      <td>8549</td>\n",
       "      <td>EHEE_rd2_0005.pdb_A12T</td>\n",
       "      <td>GSSTTRYRFTDEEETRRAAKEWARRGYQVHVTQNGTYWEVEVR</td>\n",
       "      <td>TTTTEEEEETTHHHHHHHHHHHHHHTTTEEEEEETTEEEEEET</td>\n",
       "      <td>1.68</td>\n",
       "      <td>EHEE_rd2_0005</td>\n",
       "    </tr>\n",
       "  </tbody>\n",
       "</table>\n",
       "<p>8550 rows × 6 columns</p>\n",
       "</div>"
      ],
      "text/plain": [
       "      Unnamed: 0                     name  \\\n",
       "0              0   EHEE_rd2_0005.pdb_V26L   \n",
       "1              1    HHH_rd2_0134.pdb_R22D   \n",
       "2              2     HHH_rd2_0134.pdb_Q6K   \n",
       "3              3        EHEE_0882.pdb_E2I   \n",
       "4              4  EEHEE_rd3_1716.pdb_A26R   \n",
       "...          ...                      ...   \n",
       "8545        8545    HHH_rd2_0134.pdb_Y30N   \n",
       "8546        8546   EHEE_rd2_0005.pdb_W35E   \n",
       "8547        8547   HEEH_rd3_0872.pdb_A35T   \n",
       "8548        8548  EEHEE_rd3_0037.pdb_E17S   \n",
       "8549        8549   EHEE_rd2_0005.pdb_A12T   \n",
       "\n",
       "                                         sequence  \\\n",
       "0     GSSTTRYRFTDEEEARRAAKEWARRGYQLHVTQNGTYWEVEVR   \n",
       "1     SKDEAQREAERAIRSGNKEEADRILEEAGYSPEQAERIIRKLG   \n",
       "2     SKDEAKREAERAIRSGNKEEARRILEEAGYSPEQAERIIRKLG   \n",
       "3     GSSQITIEVEDEEEARRVAKELRKKGYEVKIERRGNKWHVHRT   \n",
       "4     TEVHLGDIKLKYPNPEQAKKAAEKLRQKYNLTWTVIGDYVKIE   \n",
       "...                                           ...   \n",
       "8545  SKDEAQREAERAIRSGNKEEARRILEEAGNSPEQAERIIRKLG   \n",
       "8546  GSSTTRYRFTDEEEARRAAKEWARRGYQVHVTQNGTYEEVEVR   \n",
       "8547  TWQDLVKIAEKALEKGEPITINGITVTTKEQAKQTIEYLKKAY   \n",
       "8548  TTIKVNGQEYTVPLSPSQAAKAAKKRWPDYEVQIHGNTVKVTR   \n",
       "8549  GSSTTRYRFTDEEETRRAAKEWARRGYQVHVTQNGTYWEVEVR   \n",
       "\n",
       "                              secondary_structure  stabilityscore  \\\n",
       "0     TTTTEEEEETTHHHHHHHHHHHHHHTTTEEEEEETTEEEEEET            1.72   \n",
       "1     THHHHHHHHHHHHHTTTHHHHHHHHHHHTTTHHHHHHHHHHHT            1.22   \n",
       "2     THHHHHHHHHHHHHTTTHHHHHHHHHHHTTTHHHHHHHHHHHT            1.20   \n",
       "3     TTTTEEEEETTHHHHHHHHHHHHHHTTTEEEEEETTEEEEEET            1.59   \n",
       "4     TEEEETTEEEETTTHHHHHHHHHHHHHHHTTTEEEETTEEEET            0.88   \n",
       "...                                           ...             ...   \n",
       "8545  THHHHHHHHHHHHHTTTHHHHHHHHHHHTTTHHHHHHHHHHHT            1.13   \n",
       "8546  TTTTEEEEETTHHHHHHHHHHHHHHTTTEEEEEETTEEEEEET            0.44   \n",
       "8547  THHHHHHHHHHHHHTTEEEETTEEEETTTHHHHHHHHHHHHHT            0.64   \n",
       "8548  TEEEETTEEEETTTHHHHHHHHHHHHHHHTTTEEEETTEEEET            0.68   \n",
       "8549  TTTTEEEEETTHHHHHHHHHHHHHHTTTEEEEEETTEEEEEET            1.68   \n",
       "\n",
       "             wt_name  \n",
       "0      EHEE_rd2_0005  \n",
       "1       HHH_rd2_0134  \n",
       "2       HHH_rd2_0134  \n",
       "3          EHEE_0882  \n",
       "4     EEHEE_rd3_1716  \n",
       "...              ...  \n",
       "8545    HHH_rd2_0134  \n",
       "8546   EHEE_rd2_0005  \n",
       "8547   HEEH_rd3_0872  \n",
       "8548  EEHEE_rd3_0037  \n",
       "8549   EHEE_rd2_0005  \n",
       "\n",
       "[8550 rows x 6 columns]"
      ]
     },
     "execution_count": 363,
     "metadata": {},
     "output_type": "execute_result"
    }
   ],
   "source": [
    "train_df_single"
   ]
  },
  {
   "cell_type": "code",
   "execution_count": 386,
   "id": "automated-pixel",
   "metadata": {},
   "outputs": [],
   "source": [
    "merged = train_df_single.merge(pdb_df_merged, left_on=\"wt_name\", right_on=\"name\")\n",
    "all_offsets = []\n",
    "for wt_name, s1, s2 in merged[[\"wt_name\", \"sequence_x\", \"sequence_y\"]].values:\n",
    "    offset = len(s1) - len(s2)\n",
    "    mutations = [i+offset for i, (a, b) in enumerate(zip(s1[offset:], s2)) if a!=b]\n",
    "    all_offsets.append({\n",
    "        \"mutations\": mutations,\n",
    "        \"n_mutations\": len(mutations),\n",
    "        \"offset\": offset,\n",
    "        \"wt_name\": wt_name,\n",
    "        \"s1\": s1,\n",
    "        \"s2\": s2\n",
    "    })\n",
    "    #break\n",
    "df = pd.DataFrame(all_offsets)"
   ]
  },
  {
   "cell_type": "code",
   "execution_count": 388,
   "id": "finnish-pacific",
   "metadata": {},
   "outputs": [
    {
     "data": {
      "text/html": [
       "<div>\n",
       "<style scoped>\n",
       "    .dataframe tbody tr th:only-of-type {\n",
       "        vertical-align: middle;\n",
       "    }\n",
       "\n",
       "    .dataframe tbody tr th {\n",
       "        vertical-align: top;\n",
       "    }\n",
       "\n",
       "    .dataframe thead th {\n",
       "        text-align: right;\n",
       "    }\n",
       "</style>\n",
       "<table border=\"1\" class=\"dataframe\">\n",
       "  <thead>\n",
       "    <tr style=\"text-align: right;\">\n",
       "      <th></th>\n",
       "      <th>mutations</th>\n",
       "      <th>n_mutations</th>\n",
       "      <th>offset</th>\n",
       "      <th>wt_name</th>\n",
       "      <th>s1</th>\n",
       "      <th>s2</th>\n",
       "    </tr>\n",
       "  </thead>\n",
       "  <tbody>\n",
       "    <tr>\n",
       "      <th>47</th>\n",
       "      <td>[]</td>\n",
       "      <td>0</td>\n",
       "      <td>3</td>\n",
       "      <td>EHEE_rd2_0005</td>\n",
       "      <td>GSSTTRYRFTDEEEARRAAKEWARRGYQVHVTQNGTYWEVEVR</td>\n",
       "      <td>TTRYRFTDEEEARRAAKEWARRGYQVHVTQNGTYWEVEVR</td>\n",
       "    </tr>\n",
       "    <tr>\n",
       "      <th>1259</th>\n",
       "      <td>[]</td>\n",
       "      <td>0</td>\n",
       "      <td>3</td>\n",
       "      <td>EHEE_0882</td>\n",
       "      <td>GSSQETIEVEDEEEARRVAKELRKKGYEVKIERRGNKWHVHRT</td>\n",
       "      <td>QETIEVEDEEEARRVAKELRKKGYEVKIERRGNKWHVHRT</td>\n",
       "    </tr>\n",
       "    <tr>\n",
       "      <th>1778</th>\n",
       "      <td>[]</td>\n",
       "      <td>0</td>\n",
       "      <td>0</td>\n",
       "      <td>EEHEE_rd3_1716</td>\n",
       "      <td>TEVHLGDIKLKYPNPEQAKKAAEKLAQKYNLTWTVIGDYVKIE</td>\n",
       "      <td>TEVHLGDIKLKYPNPEQAKKAAEKLAQKYNLTWTVIGDYVKIE</td>\n",
       "    </tr>\n",
       "    <tr>\n",
       "      <th>2986</th>\n",
       "      <td>[]</td>\n",
       "      <td>0</td>\n",
       "      <td>0</td>\n",
       "      <td>EEHEE_rd3_1498</td>\n",
       "      <td>GTLHLNGVTVKVPSLEKAIKAAKKFAKKYNLEVQVHGNTVHVH</td>\n",
       "      <td>GTLHLNGVTVKVPSLEKAIKAAKKFAKKYNLEVQVHGNTVHVH</td>\n",
       "    </tr>\n",
       "    <tr>\n",
       "      <th>3584</th>\n",
       "      <td>[]</td>\n",
       "      <td>0</td>\n",
       "      <td>0</td>\n",
       "      <td>EEHEE_rd3_1702</td>\n",
       "      <td>TTIHVGDLTLKYDNPKKAYEIAKKLAKKYNLTVTIKNGKITVT</td>\n",
       "      <td>TTIHVGDLTLKYDNPKKAYEIAKKLAKKYNLTVTIKNGKITVT</td>\n",
       "    </tr>\n",
       "    <tr>\n",
       "      <th>4383</th>\n",
       "      <td>[]</td>\n",
       "      <td>0</td>\n",
       "      <td>0</td>\n",
       "      <td>EEHEE_rd3_0037</td>\n",
       "      <td>TTIKVNGQEYTVPLSPEQAAKAAKKRWPDYEVQIHGNTVKVTR</td>\n",
       "      <td>TTIKVNGQEYTVPLSPEQAAKAAKKRWPDYEVQIHGNTVKVTR</td>\n",
       "    </tr>\n",
       "    <tr>\n",
       "      <th>5897</th>\n",
       "      <td>[]</td>\n",
       "      <td>0</td>\n",
       "      <td>3</td>\n",
       "      <td>EHEE_rd3_0015</td>\n",
       "      <td>GSSKTQYEYDTKEEAQKAYEKFKKQGIPVTITQKNGKWFVQVE</td>\n",
       "      <td>KTQYEYDTKEEAQKAYEKFKKQGIPVTITQKNGKWFVQVE</td>\n",
       "    </tr>\n",
       "    <tr>\n",
       "      <th>6233</th>\n",
       "      <td>[]</td>\n",
       "      <td>0</td>\n",
       "      <td>0</td>\n",
       "      <td>HEEH_rd3_0726</td>\n",
       "      <td>TELKKKLEEALKKGEEVRVKFNGIEIRITSEDAARKAVELLEK</td>\n",
       "      <td>TELKKKLEEALKKGEEVRVKFNGIEIRITSEDAARKAVELLEK</td>\n",
       "    </tr>\n",
       "    <tr>\n",
       "      <th>6730</th>\n",
       "      <td>[]</td>\n",
       "      <td>0</td>\n",
       "      <td>0</td>\n",
       "      <td>HEEH_rd3_0872</td>\n",
       "      <td>TWQDLVKIAEKALEKGEPITINGITVTTKEQAKQAIEYLKKAY</td>\n",
       "      <td>TWQDLVKIAEKALEKGEPITINGITVTTKEQAKQAIEYLKKAY</td>\n",
       "    </tr>\n",
       "    <tr>\n",
       "      <th>7463</th>\n",
       "      <td>[]</td>\n",
       "      <td>0</td>\n",
       "      <td>0</td>\n",
       "      <td>HEEH_rd3_0223</td>\n",
       "      <td>TIDEIIKALEQAVKDNKPIQVGNYTVTSADEAEKLAKKLKKEY</td>\n",
       "      <td>TIDEIIKALEQAVKDNKPIQVGNYTVTSADEAEKLAKKLKKEY</td>\n",
       "    </tr>\n",
       "    <tr>\n",
       "      <th>8310</th>\n",
       "      <td>[]</td>\n",
       "      <td>0</td>\n",
       "      <td>0</td>\n",
       "      <td>HHH_0142</td>\n",
       "      <td>RKWEEIAERLREEFNINPEEAREAVEKAGGNEEEARRIVKKRL</td>\n",
       "      <td>RKWEEIAERLREEFNINPEEAREAVEKAGGNEEEARRIVKKRL</td>\n",
       "    </tr>\n",
       "  </tbody>\n",
       "</table>\n",
       "</div>"
      ],
      "text/plain": [
       "     mutations  n_mutations  offset         wt_name  \\\n",
       "47          []            0       3   EHEE_rd2_0005   \n",
       "1259        []            0       3       EHEE_0882   \n",
       "1778        []            0       0  EEHEE_rd3_1716   \n",
       "2986        []            0       0  EEHEE_rd3_1498   \n",
       "3584        []            0       0  EEHEE_rd3_1702   \n",
       "4383        []            0       0  EEHEE_rd3_0037   \n",
       "5897        []            0       3   EHEE_rd3_0015   \n",
       "6233        []            0       0   HEEH_rd3_0726   \n",
       "6730        []            0       0   HEEH_rd3_0872   \n",
       "7463        []            0       0   HEEH_rd3_0223   \n",
       "8310        []            0       0        HHH_0142   \n",
       "\n",
       "                                               s1  \\\n",
       "47    GSSTTRYRFTDEEEARRAAKEWARRGYQVHVTQNGTYWEVEVR   \n",
       "1259  GSSQETIEVEDEEEARRVAKELRKKGYEVKIERRGNKWHVHRT   \n",
       "1778  TEVHLGDIKLKYPNPEQAKKAAEKLAQKYNLTWTVIGDYVKIE   \n",
       "2986  GTLHLNGVTVKVPSLEKAIKAAKKFAKKYNLEVQVHGNTVHVH   \n",
       "3584  TTIHVGDLTLKYDNPKKAYEIAKKLAKKYNLTVTIKNGKITVT   \n",
       "4383  TTIKVNGQEYTVPLSPEQAAKAAKKRWPDYEVQIHGNTVKVTR   \n",
       "5897  GSSKTQYEYDTKEEAQKAYEKFKKQGIPVTITQKNGKWFVQVE   \n",
       "6233  TELKKKLEEALKKGEEVRVKFNGIEIRITSEDAARKAVELLEK   \n",
       "6730  TWQDLVKIAEKALEKGEPITINGITVTTKEQAKQAIEYLKKAY   \n",
       "7463  TIDEIIKALEQAVKDNKPIQVGNYTVTSADEAEKLAKKLKKEY   \n",
       "8310  RKWEEIAERLREEFNINPEEAREAVEKAGGNEEEARRIVKKRL   \n",
       "\n",
       "                                               s2  \n",
       "47       TTRYRFTDEEEARRAAKEWARRGYQVHVTQNGTYWEVEVR  \n",
       "1259     QETIEVEDEEEARRVAKELRKKGYEVKIERRGNKWHVHRT  \n",
       "1778  TEVHLGDIKLKYPNPEQAKKAAEKLAQKYNLTWTVIGDYVKIE  \n",
       "2986  GTLHLNGVTVKVPSLEKAIKAAKKFAKKYNLEVQVHGNTVHVH  \n",
       "3584  TTIHVGDLTLKYDNPKKAYEIAKKLAKKYNLTVTIKNGKITVT  \n",
       "4383  TTIKVNGQEYTVPLSPEQAAKAAKKRWPDYEVQIHGNTVKVTR  \n",
       "5897     KTQYEYDTKEEAQKAYEKFKKQGIPVTITQKNGKWFVQVE  \n",
       "6233  TELKKKLEEALKKGEEVRVKFNGIEIRITSEDAARKAVELLEK  \n",
       "6730  TWQDLVKIAEKALEKGEPITINGITVTTKEQAKQAIEYLKKAY  \n",
       "7463  TIDEIIKALEQAVKDNKPIQVGNYTVTSADEAEKLAKKLKKEY  \n",
       "8310  RKWEEIAERLREEFNINPEEAREAVEKAGGNEEEARRIVKKRL  "
      ]
     },
     "execution_count": 388,
     "metadata": {},
     "output_type": "execute_result"
    }
   ],
   "source": [
    "df[df.n_mutations!=1] # note that there are positions in train dataset without mutations!"
   ]
  },
  {
   "cell_type": "code",
   "execution_count": 390,
   "id": "stock-layout",
   "metadata": {},
   "outputs": [],
   "source": [
    "merged = test_df_single.merge(pdb_df_merged, left_on=\"wt_name\", right_on=\"name\")\n",
    "all_offsets = []\n",
    "for wt_name, s1, s2 in merged[[\"wt_name\", \"sequence_x\", \"sequence_y\"]].values:\n",
    "    offset = len(s1) - len(s2)\n",
    "    mutations = [i+offset for i, (a, b) in enumerate(zip(s1[offset:], s2)) if a!=b]\n",
    "    all_offsets.append({\n",
    "        \"mutations\": mutations,\n",
    "        \"n_mutations\": len(mutations),\n",
    "        \"offset\": offset,\n",
    "        \"wt_name\": wt_name,\n",
    "        \"s1\": s1,\n",
    "        \"s2\": s2\n",
    "    })\n",
    "    #break\n",
    "df = pd.DataFrame(all_offsets)"
   ]
  },
  {
   "cell_type": "code",
   "execution_count": 396,
   "id": "informative-packaging",
   "metadata": {},
   "outputs": [
    {
     "data": {
      "text/html": [
       "<div>\n",
       "<style scoped>\n",
       "    .dataframe tbody tr th:only-of-type {\n",
       "        vertical-align: middle;\n",
       "    }\n",
       "\n",
       "    .dataframe tbody tr th {\n",
       "        vertical-align: top;\n",
       "    }\n",
       "\n",
       "    .dataframe thead th {\n",
       "        text-align: right;\n",
       "    }\n",
       "</style>\n",
       "<table border=\"1\" class=\"dataframe\">\n",
       "  <thead>\n",
       "    <tr style=\"text-align: right;\">\n",
       "      <th></th>\n",
       "      <th>mutations</th>\n",
       "      <th>n_mutations</th>\n",
       "      <th>offset</th>\n",
       "      <th>wt_name</th>\n",
       "      <th>s1</th>\n",
       "      <th>s2</th>\n",
       "    </tr>\n",
       "  </thead>\n",
       "  <tbody>\n",
       "    <tr>\n",
       "      <th>679</th>\n",
       "      <td>[]</td>\n",
       "      <td>0</td>\n",
       "      <td>0</td>\n",
       "      <td>HEEH_rd2_0779</td>\n",
       "      <td>TLDEARELVERAKKEGTGVDVNGQRFEDWREAERWVREQEKNK</td>\n",
       "      <td>TLDEARELVERAKKEGTGVDVNGQRFEDWREAERWVREQEKNK</td>\n",
       "    </tr>\n",
       "    <tr>\n",
       "      <th>1564</th>\n",
       "      <td>[]</td>\n",
       "      <td>0</td>\n",
       "      <td>0</td>\n",
       "      <td>HHH_rd2_0134</td>\n",
       "      <td>SKDEAQREAERAIRSGNKEEARRILEEAGYSPEQAERIIRKLG</td>\n",
       "      <td>SKDEAQREAERAIRSGNKEEARRILEEAGYSPEQAERIIRKLG</td>\n",
       "    </tr>\n",
       "    <tr>\n",
       "      <th>1793</th>\n",
       "      <td>[]</td>\n",
       "      <td>0</td>\n",
       "      <td>0</td>\n",
       "      <td>HHH_rd3_0138</td>\n",
       "      <td>ERRKIEEIAKKLYQSGNPEAARRFLRKAGISEEEIERILQKAG</td>\n",
       "      <td>ERRKIEEIAKKLYQSGNPEAARRFLRKAGISEEEIERILQKAG</td>\n",
       "    </tr>\n",
       "  </tbody>\n",
       "</table>\n",
       "</div>"
      ],
      "text/plain": [
       "     mutations  n_mutations  offset        wt_name  \\\n",
       "679         []            0       0  HEEH_rd2_0779   \n",
       "1564        []            0       0   HHH_rd2_0134   \n",
       "1793        []            0       0   HHH_rd3_0138   \n",
       "\n",
       "                                               s1  \\\n",
       "679   TLDEARELVERAKKEGTGVDVNGQRFEDWREAERWVREQEKNK   \n",
       "1564  SKDEAQREAERAIRSGNKEEARRILEEAGYSPEQAERIIRKLG   \n",
       "1793  ERRKIEEIAKKLYQSGNPEAARRFLRKAGISEEEIERILQKAG   \n",
       "\n",
       "                                               s2  \n",
       "679   TLDEARELVERAKKEGTGVDVNGQRFEDWREAERWVREQEKNK  \n",
       "1564  SKDEAQREAERAIRSGNKEEARRILEEAGYSPEQAERIIRKLG  \n",
       "1793  ERRKIEEIAKKLYQSGNPEAARRFLRKAGISEEEIERILQKAG  "
      ]
     },
     "execution_count": 396,
     "metadata": {},
     "output_type": "execute_result"
    }
   ],
   "source": [
    "df[df.n_mutations != 1] # there are also several samples without mutations in test set"
   ]
  },
  {
   "cell_type": "code",
   "execution_count": 397,
   "id": "crucial-alberta",
   "metadata": {},
   "outputs": [],
   "source": [
    "merged = train_df_multi.merge(pdb_df_merged, left_on=\"wt_name\", right_on=\"name\")\n",
    "all_offsets = []\n",
    "for wt_name, s1, s2 in merged[[\"wt_name\", \"sequence_x\", \"sequence_y\"]].values:\n",
    "    offset = len(s1) - len(s2)\n",
    "    mutations = [i+offset for i, (a, b) in enumerate(zip(s1[offset:], s2)) if a!=b]\n",
    "    all_offsets.append({\n",
    "        \"mutations\": mutations,\n",
    "        \"n_mutations\": len(mutations),\n",
    "        \"offset\": offset,\n",
    "        \"wt_name\": wt_name,\n",
    "        \"s1\": s1,\n",
    "        \"s2\": s2\n",
    "    })\n",
    "    #break\n",
    "df = pd.DataFrame(all_offsets)"
   ]
  },
  {
   "cell_type": "code",
   "execution_count": 407,
   "id": "unauthorized-supplier",
   "metadata": {},
   "outputs": [
    {
     "data": {
      "image/png": "[encoded data removed]",
      "text/plain": [
       "<Figure size 432x288 with 1 Axes>"
      ]
     },
     "metadata": {
      "needs_background": "light"
     },
     "output_type": "display_data"
    }
   ],
   "source": [
    "plt.hist(df.n_mutations.values, bins=30);"
   ]
  },
  {
   "cell_type": "code",
   "execution_count": 429,
   "id": "educated-tucson",
   "metadata": {},
   "outputs": [],
   "source": [
    "import MDAnalysis as MDA\n",
    "import MDAnalysis.analysis.distances as MDAd\n",
    "\n",
    "def get_contact_map(path):\n",
    "    structure = MDA.Universe(path)\n",
    "    primary = structure.select_atoms(\"protein\")\n",
    "    pgroup = primary.groupby(['resids'])\n",
    "    groups = list(pgroup)\n",
    "    n = len(groups)\n",
    "    matrix = np.zeros((n, n))\n",
    "\n",
    "    for i, gr in enumerate(groups):\n",
    "        a = pgroup[gr]\n",
    "        for j in range(i, n):\n",
    "            b = pgroup[groups[j]]\n",
    "            mdist = MDAd.distance_array(a.positions, b.positions)\n",
    "            distance = mdist.min()\n",
    "            matrix[i, j] = distance\n",
    "            if i != j:\n",
    "                matrix[j, i] = distance\n",
    "    return matrix"
   ]
  },
  {
   "cell_type": "code",
   "execution_count": 433,
   "id": "danish-peter",
   "metadata": {},
   "outputs": [
    {
     "data": {
      "application/vnd.jupyter.widget-view+json": {
       "model_id": "babd75be00d84f568935b5c6ec9e461c",
       "version_major": 2,
       "version_minor": 0
      },
      "text/plain": [
       "  0%|          | 0/12441 [00:00<?, ?it/s]"
      ]
     },
     "metadata": {},
     "output_type": "display_data"
    }
   ],
   "source": [
    "for name, path in tqdm_notebook(pdb_df_merged[[\"name\", \"path\"]].values):\n",
    "    save_path = os.path.join(target_dir, name+\".npz\")\n",
    "    data = get_contact_map(path)\n",
    "    np.savez_compressed(save_path, data=data)\n",
    "    # break"
   ]
  },
  {
   "cell_type": "code",
   "execution_count": 431,
   "id": "arbitrary-ottawa",
   "metadata": {},
   "outputs": [
    {
     "data": {
      "text/plain": [
       "'../data/pdb/contact_maps'"
      ]
     },
     "execution_count": 431,
     "metadata": {},
     "output_type": "execute_result"
    }
   ],
   "source": []
  },
  {
   "cell_type": "code",
   "execution_count": 438,
   "id": "cross-baltimore",
   "metadata": {},
   "outputs": [],
   "source": [
    "pdb_df_merged['cmap_path'] = pdb_df_merged.name.apply(lambda x: os.path.join(target_dir, name + \".npz\"))"
   ]
  },
  {
   "cell_type": "code",
   "execution_count": 439,
   "id": "durable-catholic",
   "metadata": {},
   "outputs": [],
   "source": [
    "pdb_df_merged.to_csv(\"../data/pdb_names_with_cmaps.csv\", index=None)"
   ]
  },
  {
   "cell_type": "code",
   "execution_count": null,
   "id": "guided-replication",
   "metadata": {},
   "outputs": [],
   "source": []
  },
  {
   "cell_type": "code",
   "execution_count": null,
   "id": "swedish-conclusion",
   "metadata": {},
   "outputs": [],
   "source": []
  },
  {
   "cell_type": "code",
   "execution_count": null,
   "id": "aggressive-convention",
   "metadata": {},
   "outputs": [],
   "source": []
  }
 ],
 "metadata": {
  "kernelspec": {
   "display_name": "Python 3",
   "language": "python",
   "name": "python3"
  },
  "language_info": {
   "codemirror_mode": {
    "name": "ipython",
    "version": 3
   },
   "file_extension": ".py",
   "mimetype": "text/x-python",
   "name": "python",
   "nbconvert_exporter": "python",
   "pygments_lexer": "ipython3",
   "version": "3.7.9"
  }
 },
 "nbformat": 4,
 "nbformat_minor": 5
}
